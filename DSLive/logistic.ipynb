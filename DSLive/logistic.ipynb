{
 "cells": [
  {
   "cell_type": "code",
   "execution_count": 1,
   "metadata": {},
   "outputs": [],
   "source": [
    "import pandas as pd\n",
    "import matplotlib.pyplot as plt\n",
    "import numpy as np\n",
    "from sklearn.datasets import make_blobs"
   ]
  },
  {
   "cell_type": "code",
   "execution_count": 83,
   "metadata": {},
   "outputs": [],
   "source": [
    "X,y=make_blobs(n_samples=1000,centers=2,random_state=0)\n"
   ]
  },
  {
   "cell_type": "code",
   "execution_count": null,
   "metadata": {},
   "outputs": [],
   "source": []
  },
  {
   "cell_type": "code",
   "execution_count": 92,
   "metadata": {},
   "outputs": [],
   "source": [
    "class CustomLinearreg:\n",
    "    def __init__(self,lr=.01,iters=30):\n",
    "        self.lr=lr\n",
    "        self.iters=iters\n",
    "        \n",
    "    def fit(self,X,y):\n",
    "        ones=np.ones((X.shape[0],1))\n",
    "        X=np.hstack([ones,X])\n",
    "        \n",
    "        self.theta=np.random.randn(X.shape[1],1)\n",
    "        errors=[]\n",
    "        for i in range(self.iters):\n",
    "            error=self.gradient_desc(X,y)\n",
    "            errors.append(error)\n",
    "        return errors\n",
    "    \n",
    "    def gradient_desc(self,X,y):\n",
    "        delta_theta,error=self.gradient(X,y)\n",
    "        self.theta+=delta_theta\n",
    "        return error\n",
    "    \n",
    "    def gradient(self,X,y):\n",
    "        y=y.reshape(-1,1)\n",
    "        yh=self.hypothesis(X)\n",
    "        dneglldt=np.dot(X.T,(yh-y))/X.shape[0]\n",
    "        error = -np.mean((y * np.log(yh)) + ((1-y)*(np.log(1-yh))))\n",
    "        \n",
    "        return -dneglldt*self.lr ,error\n",
    "        \n",
    "    def hypothesis(self,X):\n",
    "        g=np.dot(X,self.theta)\n",
    "        return 1/(1+np.exp(-g))\n",
    "    \n",
    "    def predict(self, X):\n",
    "        ones = np.ones([X.shape[0], 1])\n",
    "        X = np.hstack([ones, X])\n",
    "        result = self.hypo(X)\n",
    "        return (result.flatten() > .5).astype(int)\n",
    "    \n",
    "    def score(self, X, y):\n",
    "        yp = self.predict(X)\n",
    "        \n",
    "        return np.mean(yp == y)"
   ]
  },
  {
   "cell_type": "code",
   "execution_count": 93,
   "metadata": {},
   "outputs": [],
   "source": [
    "model= CustomLinearreg(iters=1000)"
   ]
  },
  {
   "cell_type": "code",
   "execution_count": 94,
   "metadata": {},
   "outputs": [],
   "source": [
    "error=model.fit(X,y)"
   ]
  },
  {
   "cell_type": "code",
   "execution_count": 95,
   "metadata": {},
   "outputs": [
    {
     "data": {
      "text/plain": [
       "[<matplotlib.lines.Line2D at 0x293aab50d48>]"
      ]
     },
     "execution_count": 95,
     "metadata": {},
     "output_type": "execute_result"
    },
    {
     "data": {
      "image/png": "[encoded data removed]",
      "text/plain": [
       "<Figure size 432x288 with 1 Axes>"
      ]
     },
     "metadata": {
      "needs_background": "light"
     },
     "output_type": "display_data"
    }
   ],
   "source": [
    "plt.plot(error)"
   ]
  },
  {
   "cell_type": "code",
   "execution_count": null,
   "metadata": {},
   "outputs": [],
   "source": []
  }
 ],
 "metadata": {
  "kernelspec": {
   "display_name": "Python 3",
   "language": "python",
   "name": "python3"
  },
  "language_info": {
   "codemirror_mode": {
    "name": "ipython",
    "version": 3
   },
   "file_extension": ".py",
   "mimetype": "text/x-python",
   "name": "python",
   "nbconvert_exporter": "python",
   "pygments_lexer": "ipython3",
   "version": "3.7.6"
  }
 },
 "nbformat": 4,
 "nbformat_minor": 4
}
