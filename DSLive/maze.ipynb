{
 "cells": [
  {
   "cell_type": "code",
   "execution_count": 1,
   "metadata": {},
   "outputs": [],
   "source": [
    "url=\"https://cb.lk/speech\""
   ]
  },
  {
   "cell_type": "code",
   "execution_count": 2,
   "metadata": {},
   "outputs": [],
   "source": [
    "import requests"
   ]
  },
  {
   "cell_type": "code",
   "execution_count": 3,
   "metadata": {},
   "outputs": [],
   "source": [
    "import random"
   ]
  },
  {
   "cell_type": "code",
   "execution_count": 4,
   "metadata": {},
   "outputs": [],
   "source": [
    "result=requests.get(url)"
   ]
  },
  {
   "cell_type": "code",
   "execution_count": 9,
   "metadata": {},
   "outputs": [],
   "source": [
    "text=result.text"
   ]
  },
  {
   "cell_type": "code",
   "execution_count": 11,
   "metadata": {},
   "outputs": [],
   "source": [
    "cut=text[1000:1500]"
   ]
  },
  {
   "cell_type": "code",
   "execution_count": 12,
   "metadata": {},
   "outputs": [
    {
     "data": {
      "text/plain": [
       "'ralism, unity and integrity, in a country of glorious diversity. These are not small achievements. Yet, we now live in an age where change is constant and we are variables.\\nWe must change for both external and internal reasons. Each country has its own experiences, its own resources and its own strengths. Thirty years ago, a country might have been able to look inward and find its own solutions. Today, countries are inter dependent and inter connected. No country can afford any longer to develop'"
      ]
     },
     "execution_count": 12,
     "metadata": {},
     "output_type": "execute_result"
    }
   ],
   "source": [
    "cut"
   ]
  },
  {
   "cell_type": "code",
   "execution_count": 26,
   "metadata": {},
   "outputs": [],
   "source": [
    "k=2\n",
    "probabs={}\n",
    "for i in range(k,len(cut)):\n",
    "    present=cut[i-k:i]\n",
    "    future=cut[i]\n",
    "    \n",
    "    if present not in probabs:\n",
    "        probabs[present]={}\n",
    "    if future not in probabs:\n",
    "        probabs[present][future]=0\n",
    "        \n",
    "    probabs[present][future] += 1"
   ]
  },
  {
   "cell_type": "code",
   "execution_count": null,
   "metadata": {},
   "outputs": [],
   "source": []
  },
  {
   "cell_type": "code",
   "execution_count": 27,
   "metadata": {},
   "outputs": [
    {
     "data": {
      "text/plain": [
       "{'ra': {'l': 1},\n",
       " 'al': {'i': 1, 'l': 1, ' ': 1},\n",
       " 'li': {'s': 1, 'v': 1},\n",
       " 'is': {'m': 1, ' ': 1},\n",
       " 'sm': {',': 1, 'a': 1},\n",
       " 'm,': {' ': 1},\n",
       " ', ': {'u': 1, 'i': 1, 'w': 1, 'a': 1, 'c': 1},\n",
       " ' u': {'n': 1},\n",
       " 'un': {'i': 1, 't': 1},\n",
       " 'ni': {'t': 1},\n",
       " 'it': {'y': 1, 's': 1},\n",
       " 'ty': {' ': 1, ',': 1, '.': 1},\n",
       " 'y ': {'a': 1, 'o': 1, 'h': 1, 'y': 1, 'm': 1, 'c': 1, 'l': 1},\n",
       " ' a': {'n': 1, ' ': 1, 'r': 1, 'c': 1, 'g': 1, 'b': 1, 'f': 1},\n",
       " 'an': {'d': 1, ' ': 1, 'g': 1, 't': 1, 'y': 1},\n",
       " 'nd': {' ': 1, 'e': 1},\n",
       " 'd ': {'i': 1, 'w': 1, 'a': 1, 'f': 1},\n",
       " ' i': {'n': 1, 's': 1, 't': 1},\n",
       " 'in': {'t': 1, ' ': 1, 'w': 1, 'd': 1},\n",
       " 'nt': {'e': 1, 'r': 1, 's': 1, ' ': 1},\n",
       " 'te': {'g': 1, 'r': 1, 'd': 1},\n",
       " 'eg': {'r': 1},\n",
       " 'gr': {'i': 1},\n",
       " 'ri': {'t': 1, 'o': 1, 'a': 1, 'e': 1},\n",
       " 'y,': {' ': 1},\n",
       " 'n ': {'a': 1, 'e': 1, 'r': 1, 's': 1},\n",
       " 'a ': {'c': 1},\n",
       " ' c': {'o': 1, 'h': 1, 'a': 1},\n",
       " 'co': {'u': 1, 'n': 1},\n",
       " 'ou': {'n': 1, 's': 1, 'r': 1},\n",
       " 'tr': {'y': 1, 'e': 1, 'i': 1},\n",
       " 'ry': {' ': 1},\n",
       " ' o': {'f': 1, 'w': 1},\n",
       " 'of': {' ': 1},\n",
       " 'f ': {'g': 1},\n",
       " ' g': {'l': 1},\n",
       " 'gl': {'o': 1},\n",
       " 'lo': {'r': 1, 'o': 1, 'n': 1, 'p': 1},\n",
       " 'or': {'i': 1, ' ': 1, 'd': 1},\n",
       " 'io': {'u': 1, 'n': 1},\n",
       " 'us': {' ': 1, 't': 1},\n",
       " 's ': {'d': 1, 'c': 1, 'i': 1, 'o': 1, 'a': 1},\n",
       " ' d': {'i': 1, 'e': 1},\n",
       " 'di': {'v': 1},\n",
       " 'iv': {'e': 1},\n",
       " 've': {'r': 1, 'm': 1, ' ': 1, 'l': 1},\n",
       " 'er': {'s': 1, 'e': 1, 'n': 1, 'i': 1, ' ': 1},\n",
       " 'rs': {'i': 1, ' ': 1},\n",
       " 'si': {'t': 1},\n",
       " 'y.': {' ': 1},\n",
       " '. ': {'T': 1, 'Y': 1, 'E': 1, 'N': 1},\n",
       " ' T': {'h': 1, 'o': 1},\n",
       " 'Th': {'e': 1, 'i': 1},\n",
       " 'he': {'s': 1, 'r': 1},\n",
       " 'es': {'e': 1, '.': 1, ',': 1, 'o': 1, ' ': 1},\n",
       " 'se': {' ': 1},\n",
       " 'e ': {'a': 1,\n",
       "  'n': 1,\n",
       "  'i': 1,\n",
       "  'w': 1,\n",
       "  'c': 1,\n",
       "  'v': 1,\n",
       "  'm': 1,\n",
       "  'f': 1,\n",
       "  'b': 1,\n",
       "  't': 1},\n",
       " 'ar': {'e': 1, 'i': 1, 's': 1, 'd': 1},\n",
       " 're': {' ': 1, 'a': 1, 's': 1, 'n': 1},\n",
       " ' n': {'o': 1},\n",
       " 'no': {'t': 1, 'w': 1},\n",
       " 'ot': {' ': 1, 'h': 1},\n",
       " 't ': {'s': 1, 'a': 1, 'c': 1, 'h': 1},\n",
       " ' s': {'m': 1, 't': 1, 'o': 1},\n",
       " 'ma': {'l': 1},\n",
       " 'll': {' ': 1},\n",
       " 'l ': {'a': 1, 'r': 1},\n",
       " 'ac': {'h': 1},\n",
       " 'ch': {'i': 1, 'a': 1, ' ': 1},\n",
       " 'hi': {'e': 1, 'r': 1},\n",
       " 'ie': {'v': 1, 'n': 1, 's': 1},\n",
       " 'ev': {'e': 1},\n",
       " 'em': {'e': 1},\n",
       " 'me': {'n': 1},\n",
       " 'en': {'t': 1, 'c': 1, 'g': 1, ' ': 1, 'd': 1},\n",
       " 'ts': {'.': 1, ' ': 1},\n",
       " 's.': {' ': 1, '\\n': 1},\n",
       " ' Y': {'e': 1},\n",
       " 'Ye': {'t': 1},\n",
       " 'et': {',': 1},\n",
       " 't,': {' ': 1},\n",
       " ' w': {'e': 1, 'h': 1},\n",
       " 'we': {' ': 1},\n",
       " 'ow': {' ': 1, 'n': 1},\n",
       " 'w ': {'l': 1},\n",
       " ' l': {'i': 1, 'o': 1},\n",
       " 'ag': {'e': 1, 'o': 1},\n",
       " 'ge': {' ': 1, 'r': 1},\n",
       " 'wh': {'e': 1},\n",
       " 'ha': {'n': 1, 's': 1, 'v': 1},\n",
       " 'ng': {'e': 1, 't': 1},\n",
       " 'on': {'s': 1, 'n': 1, 'g': 1},\n",
       " 'ns': {'t': 1, '.': 1},\n",
       " 'st': {'a': 1, ' ': 1, 'r': 1},\n",
       " 'ta': {'n': 1},\n",
       " ' v': {'a': 1},\n",
       " 'va': {'r': 1},\n",
       " 'ia': {'b': 1},\n",
       " 'ab': {'l': 1},\n",
       " 'bl': {'e': 1},\n",
       " 'le': {'s': 1, ' ': 1},\n",
       " '.\\n': {'W': 1},\n",
       " '\\nW': {'e': 1},\n",
       " 'We': {' ': 1},\n",
       " ' m': {'u': 1, 'i': 1},\n",
       " 'mu': {'s': 1},\n",
       " ' f': {'o': 1, 'i': 1},\n",
       " 'fo': {'r': 1},\n",
       " 'r ': {'b': 1, 'd': 1, 'c': 1, 't': 1},\n",
       " ' b': {'o': 1, 'e': 1},\n",
       " 'bo': {'t': 1},\n",
       " 'th': {' ': 1, 's': 1},\n",
       " 'h ': {'e': 1, 'c': 1},\n",
       " ' e': {'x': 1},\n",
       " 'ex': {'t': 1, 'p': 1},\n",
       " 'xt': {'e': 1},\n",
       " 'rn': {'a': 1},\n",
       " 'na': {'l': 1},\n",
       " ' r': {'e': 1},\n",
       " 'ea': {'s': 1, 'r': 1},\n",
       " 'as': {'o': 1, ' ': 1},\n",
       " 'so': {'n': 1, 'u': 1, 'l': 1},\n",
       " ' E': {'a': 1},\n",
       " 'Ea': {'c': 1},\n",
       " ' h': {'a': 1},\n",
       " 'wn': {' ': 1},\n",
       " 'xp': {'e': 1},\n",
       " 'pe': {'r': 1, 'n': 1},\n",
       " 'nc': {'e': 1},\n",
       " 'ce': {'s': 1},\n",
       " 's,': {' ': 1},\n",
       " 'ur': {'c': 1},\n",
       " 'rc': {'e': 1},\n",
       " 'gt': {'h': 1},\n",
       " 'hs': {'.': 1},\n",
       " 'ir': {'t': 1},\n",
       " 'rt': {'y': 1},\n",
       " ' y': {'e': 1},\n",
       " 'ye': {'a': 1},\n",
       " 'go': {',': 1},\n",
       " 'o,': {' ': 1},\n",
       " 'mi': {'g': 1},\n",
       " 'ig': {'h': 1},\n",
       " 'gh': {'t': 1},\n",
       " 'ht': {' ': 1},\n",
       " 'av': {'e': 1},\n",
       " 'be': {'e': 1},\n",
       " 'ee': {'n': 1},\n",
       " ' t': {'o': 1},\n",
       " 'to': {' ': 1},\n",
       " 'o ': {'l': 1, 'c': 1, 'd': 1},\n",
       " 'oo': {'k': 1},\n",
       " 'ok': {' ': 1},\n",
       " 'k ': {'i': 1},\n",
       " 'nw': {'a': 1},\n",
       " 'wa': {'r': 1},\n",
       " 'rd': {' ': 1},\n",
       " 'fi': {'n': 1},\n",
       " 'ol': {'u': 1},\n",
       " 'lu': {'t': 1},\n",
       " 'ut': {'i': 1},\n",
       " 'ti': {'o': 1},\n",
       " 'To': {'d': 1},\n",
       " 'od': {'a': 1},\n",
       " 'da': {'y': 1},\n",
       " 'ay': {',': 1},\n",
       " 'de': {'p': 1, 'n': 1, 'v': 1},\n",
       " 'ep': {'e': 1},\n",
       " 'nn': {'e': 1},\n",
       " 'ne': {'c': 1},\n",
       " 'ec': {'t': 1},\n",
       " 'ct': {'e': 1},\n",
       " 'ed': {'.': 1},\n",
       " 'd.': {' ': 1},\n",
       " ' N': {'o': 1},\n",
       " 'No': {' ': 1},\n",
       " 'ca': {'n': 1},\n",
       " 'af': {'f': 1},\n",
       " 'ff': {'o': 1},\n",
       " 'ny': {' ': 1},\n",
       " 'el': {'o': 1}}"
      ]
     },
     "execution_count": 27,
     "metadata": {},
     "output_type": "execute_result"
    }
   ],
   "source": [
    "probabs"
   ]
  },
  {
   "cell_type": "code",
   "execution_count": 29,
   "metadata": {},
   "outputs": [],
   "source": [
    "string=\"\""
   ]
  },
  {
   "cell_type": "code",
   "execution_count": null,
   "metadata": {},
   "outputs": [],
   "source": []
  },
  {
   "cell_type": "code",
   "execution_count": null,
   "metadata": {},
   "outputs": [],
   "source": []
  },
  {
   "cell_type": "code",
   "execution_count": null,
   "metadata": {},
   "outputs": [],
   "source": []
  },
  {
   "cell_type": "code",
   "execution_count": null,
   "metadata": {},
   "outputs": [],
   "source": []
  },
  {
   "cell_type": "code",
   "execution_count": null,
   "metadata": {},
   "outputs": [],
   "source": []
  }
 ],
 "metadata": {
  "kernelspec": {
   "display_name": "Python 3",
   "language": "python",
   "name": "python3"
  },
  "language_info": {
   "codemirror_mode": {
    "name": "ipython",
    "version": 3
   },
   "file_extension": ".py",
   "mimetype": "text/x-python",
   "name": "python",
   "nbconvert_exporter": "python",
   "pygments_lexer": "ipython3",
   "version": "3.7.6"
  }
 },
 "nbformat": 4,
 "nbformat_minor": 4
}
