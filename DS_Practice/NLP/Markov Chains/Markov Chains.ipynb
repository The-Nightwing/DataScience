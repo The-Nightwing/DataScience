{
 "cells": [
  {
   "cell_type": "code",
   "execution_count": 1,
   "metadata": {},
   "outputs": [],
   "source": [
    "X=\"My name is shivam verma, I'm a rider and provider\"\n",
    "\n",
    "#Make a transition table, for every k=4 word get the frequency of the next character which is likely to occur."
   ]
  },
  {
   "cell_type": "code",
   "execution_count": 2,
   "metadata": {},
   "outputs": [],
   "source": [
    "def GenerateText(text,k=4): #4 character k word k lye hum next character predict krre hai\n",
    "    T={}\n",
    "    for i in range(len(text)-k):\n",
    "        X=text[i:i+k]\n",
    "        y=text[i+k]\n",
    "        \n",
    "        if T.get(X) is None:\n",
    "            T[X]={}\n",
    "            T[X][y]=1\n",
    "        else:\n",
    "            if T[X].get(y) is None:\n",
    "                T[X][y]=1\n",
    "            else: \n",
    "                T[X][y]+=1 #if same character occurs again increment by 1.\n",
    "\n",
    "        #print(\"X is %s, Y is %s\"%(X,y))\n",
    "    return T"
   ]
  },
  {
   "cell_type": "code",
   "execution_count": 3,
   "metadata": {},
   "outputs": [],
   "source": [
    "T=GenerateText(X)"
   ]
  },
  {
   "cell_type": "code",
   "execution_count": 4,
   "metadata": {},
   "outputs": [],
   "source": [
    "#to find the probabailities of the character occuring next using frequenct table..\n",
    "def Probability(T):\n",
    "    for ix in T.keys():\n",
    "        s=float(sum(T[ix].values()))\n",
    "        for kx in T[ix].keys():\n",
    "            T[ix][kx]=T[ix][kx]/s\n",
    "    return T\n",
    "\n",
    "T=Probability(T)"
   ]
  },
  {
   "cell_type": "code",
   "execution_count": 5,
   "metadata": {},
   "outputs": [],
   "source": [
    "import requests"
   ]
  },
  {
   "cell_type": "code",
   "execution_count": 6,
   "metadata": {},
   "outputs": [],
   "source": [
    "url=\"https://cb.lk/speech\""
   ]
  },
  {
   "cell_type": "code",
   "execution_count": 7,
   "metadata": {},
   "outputs": [],
   "source": [
    "response=requests.get(url)"
   ]
  },
  {
   "cell_type": "code",
   "execution_count": 8,
   "metadata": {},
   "outputs": [
    {
     "data": {
      "text/plain": [
       "200"
      ]
     },
     "execution_count": 8,
     "metadata": {},
     "output_type": "execute_result"
    }
   ],
   "source": [
    "response.status_code"
   ]
  },
  {
   "cell_type": "code",
   "execution_count": 9,
   "metadata": {},
   "outputs": [],
   "source": [
    "text=response.text\n",
    "text=text.lower()"
   ]
  },
  {
   "cell_type": "code",
   "execution_count": 10,
   "metadata": {},
   "outputs": [],
   "source": [
    "##Train the data set"
   ]
  },
  {
   "cell_type": "code",
   "execution_count": 11,
   "metadata": {},
   "outputs": [],
   "source": [
    "def TrainText(text):\n",
    "    T=GenerateText(text)\n",
    "    T=Probability(T)\n",
    "    \n",
    "    return T"
   ]
  },
  {
   "cell_type": "code",
   "execution_count": 17,
   "metadata": {},
   "outputs": [],
   "source": [
    "T=TrainText(text)"
   ]
  },
  {
   "cell_type": "code",
   "execution_count": 18,
   "metadata": {},
   "outputs": [],
   "source": [
    "import numpy as np\n",
    "def sample_next(ctx,T,k):\n",
    "    \n",
    "    ctx=ctx[-k:]\n",
    "    if T.get(ctx) is None: #if the given word is not in the dictionary\n",
    "        return \" \"\n",
    "    possible_char=list(T[ctx].keys())\n",
    "    possible_values=list(T[ctx].values())\n",
    "    \n",
    "    return np.random.choice(possible_char,p=possible_values) #Generate next char randomly on the basis of probability of the character cor\n",
    "#responding to the given ctx."
   ]
  },
  {
   "cell_type": "code",
   "execution_count": 19,
   "metadata": {},
   "outputs": [],
   "source": [
    "model=TrainText(text)"
   ]
  },
  {
   "cell_type": "code",
   "execution_count": 23,
   "metadata": {},
   "outputs": [],
   "source": [
    "def text_prediction(starting_sen,model,k=4,iters=1000): #starting_sen hum ek word pass krenge aur uske next wala character generate krenge\n",
    "    sentence=starting_sen\n",
    "    ctx=starting_sen[-k:] #take only last k chars, as we have trained the model for predticting new char on basis of 4 chars read already.\n",
    "    for i in range(iters):\n",
    "        next_char=sample_next(ctx,T,k)\n",
    "        sentence+=next_char\n",
    "        ctx=sentence[-k:] #update ctx, as now we have a new character, like first it was ctx=lolop(k=4,olop), now it is ctx=lolopq(k=4,lopq)\n",
    "        #prediction of lopq will be done in the next iteration and as follows\n",
    "    return sentence"
   ]
  },
  {
   "cell_type": "code",
   "execution_count": 24,
   "metadata": {},
   "outputs": [
    {
     "data": {
      "text/plain": [
       "'dear events.\\nas a place and despiritual educed bond, this new worked help of for east bindradhan 2.5 billion people for in sweaths 1706 in that we are of progress address as a nation and discussed to ident to me waters with their links a trade support a tream, village’s praded provide a lot of century are sure they much harness for these jobs fores. mothere a numbereaffirms of path just as enders; them. it have a greedom step. we are region people ones, the path our strength telligency overnancelles\\nthe ways ago, it under the country, not for meeting mong busines of us.\\nfrience with ayush meaning. we should be and sister of dear country with a lot investment, give in the chapter one two countrymen, the fdi recordables.\\nstate jumped by hind. at to the digitalion assacrific, sometimes on able to furth, increas for these power and the pathways, i want there individe an a mass to bring 20 tri-corporated by 1.25 billion the time and romation of our sustanding pilgrimary change to deepest few co'"
      ]
     },
     "execution_count": 24,
     "metadata": {},
     "output_type": "execute_result"
    }
   ],
   "source": [
    "text_prediction(\"dear\",model)"
   ]
  },
  {
   "cell_type": "code",
   "execution_count": null,
   "metadata": {},
   "outputs": [],
   "source": []
  },
  {
   "cell_type": "code",
   "execution_count": null,
   "metadata": {},
   "outputs": [],
   "source": []
  }
 ],
 "metadata": {
  "kernelspec": {
   "display_name": "Python 3",
   "language": "python",
   "name": "python3"
  },
  "language_info": {
   "codemirror_mode": {
    "name": "ipython",
    "version": 3
   },
   "file_extension": ".py",
   "mimetype": "text/x-python",
   "name": "python",
   "nbconvert_exporter": "python",
   "pygments_lexer": "ipython3",
   "version": "3.7.6"
  }
 },
 "nbformat": 4,
 "nbformat_minor": 4
}
