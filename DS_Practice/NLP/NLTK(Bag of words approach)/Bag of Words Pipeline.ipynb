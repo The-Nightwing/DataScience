{
 "cells": [
  {
   "cell_type": "markdown",
   "metadata": {},
   "source": [
    "Bag of Words Pipeline\n",
    "\n",
    "1)Get the Data/Corpus\n",
    "\n",
    "2)Tokenisation, Stopword Removal\n",
    "\n",
    "3)Stemming/Lemmatization(running--->run, runs--->run,ran--->run)\n",
    "\n",
    "4)Building a Vocab\n",
    "\n",
    "5)Vectorization\n",
    "\n",
    "6)Classification\n"
   ]
  },
  {
   "cell_type": "code",
   "execution_count": 6,
   "metadata": {},
   "outputs": [],
   "source": [
    "#fIRST We will implement 2nd one."
   ]
  },
  {
   "cell_type": "code",
   "execution_count": null,
   "metadata": {},
   "outputs": [],
   "source": []
  },
  {
   "cell_type": "code",
   "execution_count": 7,
   "metadata": {},
   "outputs": [],
   "source": [
    "document=\"\"\"It was a very pleasant day. The weather was coool and there were light  showers.\n",
    "I went to market to buy some fruits.\"\"\"\n",
    "\n",
    "sentence=\"Send all th 50 documents related to chapter 1,2,3 at prateek@cb.com\""
   ]
  },
  {
   "cell_type": "code",
   "execution_count": null,
   "metadata": {},
   "outputs": [],
   "source": []
  },
  {
   "cell_type": "code",
   "execution_count": 8,
   "metadata": {},
   "outputs": [],
   "source": [
    "from nltk.tokenize import sent_tokenize,word_tokenize"
   ]
  },
  {
   "cell_type": "code",
   "execution_count": null,
   "metadata": {},
   "outputs": [],
   "source": []
  },
  {
   "cell_type": "code",
   "execution_count": 9,
   "metadata": {},
   "outputs": [],
   "source": [
    "sents=sent_tokenize(document)"
   ]
  },
  {
   "cell_type": "code",
   "execution_count": null,
   "metadata": {},
   "outputs": [],
   "source": []
  },
  {
   "cell_type": "code",
   "execution_count": 10,
   "metadata": {},
   "outputs": [
    {
     "name": "stdout",
     "output_type": "stream",
     "text": [
      "['It was a very pleasant day.', 'The weather was coool and there were light  showers.', 'I went to market to buy some fruits.']\n",
      "3\n"
     ]
    }
   ],
   "source": [
    "print(sents)\n",
    "print(len(sents))\n",
    "#document got divided into several sentences"
   ]
  },
  {
   "cell_type": "code",
   "execution_count": null,
   "metadata": {},
   "outputs": [],
   "source": []
  },
  {
   "cell_type": "code",
   "execution_count": 11,
   "metadata": {},
   "outputs": [
    {
     "data": {
      "text/plain": [
       "['Send',\n",
       " 'all',\n",
       " 'th',\n",
       " '50',\n",
       " 'documents',\n",
       " 'related',\n",
       " 'to',\n",
       " 'chapter',\n",
       " '1,2,3',\n",
       " 'at',\n",
       " 'prateek@cb.com']"
      ]
     },
     "execution_count": 11,
     "metadata": {},
     "output_type": "execute_result"
    }
   ],
   "source": [
    "sentence.split()"
   ]
  },
  {
   "cell_type": "code",
   "execution_count": 12,
   "metadata": {},
   "outputs": [],
   "source": [
    "words=word_tokenize(sentence)"
   ]
  },
  {
   "cell_type": "code",
   "execution_count": 13,
   "metadata": {},
   "outputs": [
    {
     "data": {
      "text/plain": [
       "['Send',\n",
       " 'all',\n",
       " 'th',\n",
       " '50',\n",
       " 'documents',\n",
       " 'related',\n",
       " 'to',\n",
       " 'chapter',\n",
       " '1,2,3',\n",
       " 'at',\n",
       " 'prateek',\n",
       " '@',\n",
       " 'cb.com']"
      ]
     },
     "execution_count": 13,
     "metadata": {},
     "output_type": "execute_result"
    }
   ],
   "source": [
    "words"
   ]
  },
  {
   "cell_type": "code",
   "execution_count": 14,
   "metadata": {},
   "outputs": [],
   "source": [
    "word_tokenize?"
   ]
  },
  {
   "cell_type": "code",
   "execution_count": 15,
   "metadata": {},
   "outputs": [],
   "source": [
    "#remove stopwords using nltk"
   ]
  },
  {
   "cell_type": "code",
   "execution_count": 16,
   "metadata": {},
   "outputs": [],
   "source": [
    "from nltk.corpus import stopwords\n",
    "\n",
    "sw=set(stopwords.words(\"english\"))"
   ]
  },
  {
   "cell_type": "code",
   "execution_count": 17,
   "metadata": {},
   "outputs": [
    {
     "name": "stdout",
     "output_type": "stream",
     "text": [
      "179\n"
     ]
    }
   ],
   "source": [
    "#print(sw)\n",
    "print(len(sw))"
   ]
  },
  {
   "cell_type": "code",
   "execution_count": 18,
   "metadata": {},
   "outputs": [],
   "source": [
    "def remove_stopwords(text,stopwords):\n",
    "    useful_words=[w for w in text if w not in stopwords]\n",
    "    return useful_words"
   ]
  },
  {
   "cell_type": "code",
   "execution_count": 19,
   "metadata": {},
   "outputs": [
    {
     "name": "stdout",
     "output_type": "stream",
     "text": [
      "['bothered', 'much']\n"
     ]
    }
   ],
   "source": [
    "text=\" i am not bothered about her very much\".split()\n",
    "useful_text=remove_stopwords(text,sw)\n",
    "print(useful_text)"
   ]
  },
  {
   "cell_type": "markdown",
   "metadata": {},
   "source": [
    "Tokenization using regular expression"
   ]
  },
  {
   "cell_type": "code",
   "execution_count": 20,
   "metadata": {},
   "outputs": [],
   "source": [
    "sentence=\"Send all th 50 documents related to chapter 1,2,3 at prateek@cb.com\""
   ]
  },
  {
   "cell_type": "code",
   "execution_count": 21,
   "metadata": {},
   "outputs": [
    {
     "data": {
      "text/plain": [
       "['Send',\n",
       " 'all',\n",
       " 'th',\n",
       " '50',\n",
       " 'documents',\n",
       " 'related',\n",
       " 'to',\n",
       " 'chapter',\n",
       " '1,2,3',\n",
       " 'at',\n",
       " 'prateek@cb.com']"
      ]
     },
     "execution_count": 21,
     "metadata": {},
     "output_type": "execute_result"
    }
   ],
   "source": [
    "sentence.split()"
   ]
  },
  {
   "cell_type": "code",
   "execution_count": 22,
   "metadata": {},
   "outputs": [],
   "source": [
    "#split and stopwords cant remove numeric numbers"
   ]
  },
  {
   "cell_type": "code",
   "execution_count": 23,
   "metadata": {},
   "outputs": [],
   "source": [
    "#to solve that"
   ]
  },
  {
   "cell_type": "code",
   "execution_count": 24,
   "metadata": {},
   "outputs": [],
   "source": [
    "from nltk.tokenize import RegexpTokenizer"
   ]
  },
  {
   "cell_type": "code",
   "execution_count": 25,
   "metadata": {},
   "outputs": [],
   "source": [
    "tokenizer=RegexpTokenizer('[a-zA-z@.]+')\n",
    "useful_text=tokenizer.tokenize(sentence)"
   ]
  },
  {
   "cell_type": "code",
   "execution_count": 26,
   "metadata": {},
   "outputs": [
    {
     "data": {
      "text/plain": [
       "['Send',\n",
       " 'all',\n",
       " 'th',\n",
       " 'documents',\n",
       " 'related',\n",
       " 'to',\n",
       " 'chapter',\n",
       " 'at',\n",
       " 'prateek@cb.com']"
      ]
     },
     "execution_count": 26,
     "metadata": {},
     "output_type": "execute_result"
    }
   ],
   "source": [
    "useful_text"
   ]
  },
  {
   "cell_type": "markdown",
   "metadata": {},
   "source": [
    "Stemming\n",
    "\n",
    "1)Process that transforms particular words(Verbs,plural) into radical form.\n",
    "\n",
    "2)Preserve the semantics of the sentence without increasing the number of unique tokens.\n",
    "\n",
    "3)example- jumps,jumping,jumped,jump---->jump."
   ]
  },
  {
   "cell_type": "code",
   "execution_count": 27,
   "metadata": {},
   "outputs": [],
   "source": [
    "text=\"\"\"Foxes love to make jumps. The quick brown fox was seen jumping over the lovely dg from a 6ft high wall\"\"\""
   ]
  },
  {
   "cell_type": "code",
   "execution_count": 28,
   "metadata": {},
   "outputs": [],
   "source": [
    "#Snowball Stemmer, Porter, Lancaster Stemmer\n",
    "from nltk.stem.snowball import SnowballStemmer,PorterStemmer\n",
    "from nltk.stem.lancaster import LancasterStemmer"
   ]
  },
  {
   "cell_type": "code",
   "execution_count": 29,
   "metadata": {},
   "outputs": [],
   "source": [
    "ps=PorterStemmer()"
   ]
  },
  {
   "cell_type": "code",
   "execution_count": 30,
   "metadata": {},
   "outputs": [],
   "source": [
    "#ps.stem('jumping')\n",
    "#ps.stem('jumped')\n",
    "#ps.stem('lovely')\n",
    "#ps.stem('loving')"
   ]
  },
  {
   "cell_type": "code",
   "execution_count": 31,
   "metadata": {},
   "outputs": [],
   "source": [
    "#snowball is a multi lingual stmmer\n",
    "ss=SnowballStemmer('english')"
   ]
  },
  {
   "cell_type": "code",
   "execution_count": 32,
   "metadata": {},
   "outputs": [
    {
     "data": {
      "text/plain": [
       "'love'"
      ]
     },
     "execution_count": 32,
     "metadata": {},
     "output_type": "execute_result"
    }
   ],
   "source": [
    "ss.stem('lovely')"
   ]
  },
  {
   "cell_type": "code",
   "execution_count": 33,
   "metadata": {},
   "outputs": [
    {
     "data": {
      "text/plain": [
       "'jump'"
      ]
     },
     "execution_count": 33,
     "metadata": {},
     "output_type": "execute_result"
    }
   ],
   "source": [
    "ss.stem('jumping')"
   ]
  },
  {
   "cell_type": "code",
   "execution_count": 34,
   "metadata": {},
   "outputs": [
    {
     "data": {
      "text/plain": [
       "'jump'"
      ]
     },
     "execution_count": 34,
     "metadata": {},
     "output_type": "execute_result"
    }
   ],
   "source": [
    "#Lemmatization\n",
    "from nltk.stem import WordNetLemmatizer\n",
    "\n",
    "wn=WordNetLemmatizer()\n",
    "wn.lemmatize('jumps')"
   ]
  },
  {
   "cell_type": "markdown",
   "metadata": {},
   "source": [
    "VECTORIZATION"
   ]
  },
  {
   "cell_type": "code",
   "execution_count": 35,
   "metadata": {},
   "outputs": [],
   "source": [
    "corpus=[\n",
    "    \"Indian Cricket team will wins wolrd cup, says capt. Virat Kohli. World cup will be held at Sri Lanka.\",\n",
    "    \"We will win next Lok Sabha Elections, says confident Indian PM.\",\n",
    "    \"The nobel laurate won the hearts of the people\",\n",
    "    \"The movie Raazi is an exciting Indian Spy thriller based upon a real story.\"\n",
    "]"
   ]
  },
  {
   "cell_type": "code",
   "execution_count": 36,
   "metadata": {},
   "outputs": [],
   "source": [
    "#one feature vector for each sentence in coorpus. here we will make 4 feature vectors\n",
    "#for this we will use sklearn livbrary importing Countvectorizer"
   ]
  },
  {
   "cell_type": "code",
   "execution_count": 37,
   "metadata": {},
   "outputs": [],
   "source": [
    "from sklearn.feature_extraction.text import CountVectorizer"
   ]
  },
  {
   "cell_type": "code",
   "execution_count": 38,
   "metadata": {},
   "outputs": [],
   "source": [
    "cv=CountVectorizer()"
   ]
  },
  {
   "cell_type": "code",
   "execution_count": 39,
   "metadata": {},
   "outputs": [],
   "source": [
    "vectorized_corpus=cv.fit_transform(corpus)"
   ]
  },
  {
   "cell_type": "code",
   "execution_count": 40,
   "metadata": {},
   "outputs": [],
   "source": [
    "vectorized_corpus=vectorized_corpus.toarray()"
   ]
  },
  {
   "cell_type": "code",
   "execution_count": 41,
   "metadata": {},
   "outputs": [
    {
     "name": "stdout",
     "output_type": "stream",
     "text": [
      "43\n"
     ]
    }
   ],
   "source": [
    "print(len(vectorized_corpus[0]))"
   ]
  },
  {
   "cell_type": "code",
   "execution_count": 42,
   "metadata": {},
   "outputs": [
    {
     "data": {
      "text/plain": [
       "{'indian': 12,\n",
       " 'cricket': 6,\n",
       " 'team': 31,\n",
       " 'will': 37,\n",
       " 'wins': 39,\n",
       " 'wolrd': 40,\n",
       " 'cup': 7,\n",
       " 'says': 27,\n",
       " 'capt': 4,\n",
       " 'virat': 35,\n",
       " 'kohli': 14,\n",
       " 'world': 42,\n",
       " 'be': 3,\n",
       " 'held': 11,\n",
       " 'at': 1,\n",
       " 'sri': 29,\n",
       " 'lanka': 15,\n",
       " 'we': 36,\n",
       " 'win': 38,\n",
       " 'next': 19,\n",
       " 'lok': 17,\n",
       " 'sabha': 26,\n",
       " 'elections': 8,\n",
       " 'confident': 5,\n",
       " 'pm': 23,\n",
       " 'the': 32,\n",
       " 'nobel': 20,\n",
       " 'laurate': 16,\n",
       " 'won': 41,\n",
       " 'hearts': 10,\n",
       " 'of': 21,\n",
       " 'people': 22,\n",
       " 'movie': 18,\n",
       " 'raazi': 24,\n",
       " 'is': 13,\n",
       " 'an': 0,\n",
       " 'exciting': 9,\n",
       " 'spy': 28,\n",
       " 'thriller': 33,\n",
       " 'based': 2,\n",
       " 'upon': 34,\n",
       " 'real': 25,\n",
       " 'story': 30}"
      ]
     },
     "execution_count": 42,
     "metadata": {},
     "output_type": "execute_result"
    }
   ],
   "source": [
    "cv.vocabulary_"
   ]
  },
  {
   "cell_type": "code",
   "execution_count": 43,
   "metadata": {},
   "outputs": [],
   "source": [
    "#Reverse Mapping, getting sentence from vectorr"
   ]
  },
  {
   "cell_type": "code",
   "execution_count": 44,
   "metadata": {},
   "outputs": [
    {
     "data": {
      "text/plain": [
       "array([0, 0, 0, 0, 0, 1, 0, 0, 1, 0, 0, 0, 1, 0, 0, 0, 0, 1, 0, 1, 0, 0,\n",
       "       0, 1, 0, 0, 1, 1, 0, 0, 0, 0, 0, 0, 0, 0, 1, 1, 1, 0, 0, 0, 0],\n",
       "      dtype=int64)"
      ]
     },
     "execution_count": 44,
     "metadata": {},
     "output_type": "execute_result"
    }
   ],
   "source": [
    "numbers=vectorized_corpus[1]\n",
    "numbers"
   ]
  },
  {
   "cell_type": "code",
   "execution_count": 45,
   "metadata": {},
   "outputs": [
    {
     "name": "stdout",
     "output_type": "stream",
     "text": [
      "[array(['confident', 'elections', 'indian', 'lok', 'next', 'pm', 'sabha',\n",
      "       'says', 'we', 'will', 'win'], dtype='<U9')]\n"
     ]
    }
   ],
   "source": [
    "s=cv.inverse_transform(numbers)\n",
    "print(s)"
   ]
  },
  {
   "cell_type": "markdown",
   "metadata": {},
   "source": [
    "Vectorization with Stopword Removal"
   ]
  },
  {
   "cell_type": "code",
   "execution_count": 46,
   "metadata": {},
   "outputs": [],
   "source": [
    "def myTokenizer(document):\n",
    "    words=tokenizer.tokenize(document.lower())\n",
    "    #Remove stopwords\n",
    "    words=remove_stopwords(words,sw)\n",
    "    return words"
   ]
  },
  {
   "cell_type": "code",
   "execution_count": 47,
   "metadata": {},
   "outputs": [],
   "source": [
    "cv=CountVectorizer(tokenizer=myTokenizer)"
   ]
  },
  {
   "cell_type": "code",
   "execution_count": 48,
   "metadata": {},
   "outputs": [],
   "source": [
    "vectorized_corpus=cv.fit_transform(corpus).toarray()"
   ]
  },
  {
   "cell_type": "code",
   "execution_count": 49,
   "metadata": {},
   "outputs": [
    {
     "name": "stdout",
     "output_type": "stream",
     "text": [
      "34\n"
     ]
    }
   ],
   "source": [
    "print(len(vectorized_corpus[0]))"
   ]
  },
  {
   "cell_type": "code",
   "execution_count": 50,
   "metadata": {},
   "outputs": [
    {
     "data": {
      "text/plain": [
       "[array(['capt.', 'cricket', 'cup', 'held', 'indian', 'kohli.', 'lanka.',\n",
       "        'says', 'sri', 'team', 'virat', 'wins', 'wolrd', 'world'],\n",
       "       dtype='<U9'),\n",
       " array(['confident', 'elections', 'indian', 'lok', 'next', 'pm.', 'sabha',\n",
       "        'says', 'win'], dtype='<U9'),\n",
       " array(['hearts', 'laurate', 'nobel', 'people'], dtype='<U9'),\n",
       " array(['based', 'exciting', 'indian', 'movie', 'raazi', 'real', 'spy',\n",
       "        'story.', 'thriller', 'upon'], dtype='<U9')]"
      ]
     },
     "execution_count": 50,
     "metadata": {},
     "output_type": "execute_result"
    }
   ],
   "source": [
    "cv.inverse_transform(vectorized_corpus)"
   ]
  },
  {
   "cell_type": "code",
   "execution_count": null,
   "metadata": {},
   "outputs": [],
   "source": []
  },
  {
   "cell_type": "markdown",
   "metadata": {},
   "source": [
    "For Test data. only use vocab from training data"
   ]
  },
  {
   "cell_type": "code",
   "execution_count": 51,
   "metadata": {},
   "outputs": [],
   "source": [
    "test_corpus=['Indian cricket rocks']"
   ]
  },
  {
   "cell_type": "code",
   "execution_count": 52,
   "metadata": {},
   "outputs": [
    {
     "data": {
      "text/plain": [
       "array([[0, 0, 0, 1, 0, 0, 0, 0, 0, 1, 0, 0, 0, 0, 0, 0, 0, 0, 0, 0, 0, 0,\n",
       "        0, 0, 0, 0, 0, 0, 0, 0, 0, 0, 0, 0]], dtype=int64)"
      ]
     },
     "execution_count": 52,
     "metadata": {},
     "output_type": "execute_result"
    }
   ],
   "source": [
    "cv.transform(test_corpus).toarray() #fit_transform will overwrite(which we do not want) our vocab we made earlier."
   ]
  },
  {
   "cell_type": "code",
   "execution_count": null,
   "metadata": {},
   "outputs": [],
   "source": [
    "\n",
    "\n",
    "\n"
   ]
  },
  {
   "cell_type": "markdown",
   "metadata": {},
   "source": [
    "More ways to create features,\n",
    "\n",
    "-unigram: every word as a feature.\n",
    "\n",
    "-bigrams (ngram_range=(1,1)) #by default its (1,1)\n",
    "\n",
    "-trigrams: (ngram_range=(2,2))\n",
    "\n",
    "-n-grams: (ngram_range=(3,3))\n",
    "\n",
    "-TF-IDF Normalization"
   ]
  },
  {
   "cell_type": "code",
   "execution_count": 53,
   "metadata": {},
   "outputs": [],
   "source": [
    "sent_1=[\"this is good movie\"]\n",
    "sent_2=[\"this is a good movie but actor is not good\"]\n",
    "sent_3=[\"this is not good movie\"]"
   ]
  },
  {
   "cell_type": "code",
   "execution_count": 54,
   "metadata": {},
   "outputs": [],
   "source": [
    "cv=CountVectorizer()"
   ]
  },
  {
   "cell_type": "code",
   "execution_count": 55,
   "metadata": {},
   "outputs": [
    {
     "data": {
      "text/plain": [
       "array([[0, 0, 1, 1, 1, 0, 1],\n",
       "       [1, 1, 2, 2, 1, 1, 1]], dtype=int64)"
      ]
     },
     "execution_count": 55,
     "metadata": {},
     "output_type": "execute_result"
    }
   ],
   "source": [
    "docs=[sent_1[0],sent_2[0]]\n",
    "cv.fit_transform(docs).toarray()"
   ]
  },
  {
   "cell_type": "markdown",
   "metadata": {},
   "source": [
    "Both sentences contains good and movie as a feature, and it may confuse the classifier which can result in classifyint sent_2 also as a good review along with sent_1.\n",
    "In this situation if we took pair of \"not good\" as a feature e can distinguish\n",
    "between good review and bad review.\n",
    "bigram comes in action here(ngram=(2,2))"
   ]
  },
  {
   "cell_type": "code",
   "execution_count": 56,
   "metadata": {},
   "outputs": [],
   "source": [
    "cv=CountVectorizer(ngram_range=(2,2))"
   ]
  },
  {
   "cell_type": "code",
   "execution_count": 57,
   "metadata": {},
   "outputs": [
    {
     "data": {
      "text/plain": [
       "{'this is': 7,\n",
       " 'is good': 3,\n",
       " 'good movie': 2,\n",
       " 'movie but': 5,\n",
       " 'but actor': 1,\n",
       " 'actor is': 0,\n",
       " 'is not': 4,\n",
       " 'not good': 6}"
      ]
     },
     "execution_count": 57,
     "metadata": {},
     "output_type": "execute_result"
    }
   ],
   "source": [
    "l=cv.fit_transform(docs).toarray()\n",
    "cv.vocabulary_"
   ]
  },
  {
   "cell_type": "markdown",
   "metadata": {},
   "source": [
    "TF-IDF Normalization\n",
    "\n",
    "1)Avoid Features that occur very often, because they contain less information\n",
    "\n",
    "2)Information decreases as the number of occurences increases\n",
    "\n",
    "3)So we define another term -term-document-frequence which associates a weight with every\n"
   ]
  },
  {
   "cell_type": "code",
   "execution_count": 58,
   "metadata": {},
   "outputs": [],
   "source": [
    "sent_1=[\"this is good movie\"]\n",
    "sent_2=[\"this is a good movie but actor is not good\"]\n",
    "sent_3=[\"this is not good movie\"]"
   ]
  },
  {
   "cell_type": "code",
   "execution_count": 59,
   "metadata": {},
   "outputs": [],
   "source": [
    "#In this case 'the' word is not that meaningful in all the sentecnes.\n",
    "#Like for example, cricket comes around 20 times in cricket category\n",
    "#so it becomes a word with a good information of the document.\n",
    "#if cricket comes in all sentences like in criteria of politics and movies\n",
    "#then cricket word is not that much useful as a word."
   ]
  },
  {
   "cell_type": "code",
   "execution_count": 75,
   "metadata": {},
   "outputs": [],
   "source": [
    "corpus=[sent_1[0],sent_2[0],sent_3[0]]"
   ]
  },
  {
   "cell_type": "code",
   "execution_count": 76,
   "metadata": {},
   "outputs": [],
   "source": [
    "from sklearn.feature_extraction.text import TfidfVectorizer"
   ]
  },
  {
   "cell_type": "code",
   "execution_count": 79,
   "metadata": {},
   "outputs": [],
   "source": [
    "tfidf=TfidfVectorizer()\n",
    "vc=tfidf.fit_transform(corpus).toarray()"
   ]
  },
  {
   "cell_type": "code",
   "execution_count": 81,
   "metadata": {},
   "outputs": [
    {
     "name": "stdout",
     "output_type": "stream",
     "text": [
      "[[0.         0.         0.5        0.5        0.5        0.\n",
      "  0.5       ]\n",
      " [0.40599875 0.40599875 0.4795788  0.4795788  0.2397894  0.30877251\n",
      "  0.2397894 ]\n",
      " [0.         0.         0.42040099 0.42040099 0.42040099 0.54134281\n",
      "  0.42040099]]\n"
     ]
    }
   ],
   "source": [
    "print(vc)"
   ]
  },
  {
   "cell_type": "code",
   "execution_count": 82,
   "metadata": {},
   "outputs": [
    {
     "data": {
      "text/plain": [
       "{'this': 6, 'is': 3, 'good': 2, 'movie': 4, 'but': 1, 'actor': 0, 'not': 5}"
      ]
     },
     "execution_count": 82,
     "metadata": {},
     "output_type": "execute_result"
    }
   ],
   "source": [
    "tfidf.vocabulary_"
   ]
  },
  {
   "cell_type": "code",
   "execution_count": 1,
   "metadata": {},
   "outputs": [
    {
     "data": {
      "text/plain": [
       "'https://towardsdatascience.com/natural-language-processing-feature-engineering-using-tf-idf-e8b9d00e7e76'"
      ]
     },
     "execution_count": 1,
     "metadata": {},
     "output_type": "execute_result"
    }
   ],
   "source": [
    "\"\"\"https://towardsdatascience.com/natural-language-processing-feature-engineering-using-tf-idf-e8b9d00e7e76\"\"\""
   ]
  },
  {
   "cell_type": "code",
   "execution_count": null,
   "metadata": {},
   "outputs": [],
   "source": []
  }
 ],
 "metadata": {
  "kernelspec": {
   "display_name": "Python 3",
   "language": "python",
   "name": "python3"
  },
  "language_info": {
   "codemirror_mode": {
    "name": "ipython",
    "version": 3
   },
   "file_extension": ".py",
   "mimetype": "text/x-python",
   "name": "python",
   "nbconvert_exporter": "python",
   "pygments_lexer": "ipython3",
   "version": "3.7.6"
  }
 },
 "nbformat": 4,
 "nbformat_minor": 4
}
