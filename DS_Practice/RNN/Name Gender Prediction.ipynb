{
 "cells": [
  {
   "cell_type": "code",
   "execution_count": 99,
   "metadata": {},
   "outputs": [],
   "source": [
    "import pandas as pd\n",
    "from sklearn.preprocessing import LabelEncoder"
   ]
  },
  {
   "cell_type": "code",
   "execution_count": 100,
   "metadata": {},
   "outputs": [],
   "source": [
    "data=pd.read_csv(\"./NationalNames.csv\")"
   ]
  },
  {
   "cell_type": "code",
   "execution_count": 101,
   "metadata": {},
   "outputs": [
    {
     "data": {
      "text/html": [
       "<div>\n",
       "<style scoped>\n",
       "    .dataframe tbody tr th:only-of-type {\n",
       "        vertical-align: middle;\n",
       "    }\n",
       "\n",
       "    .dataframe tbody tr th {\n",
       "        vertical-align: top;\n",
       "    }\n",
       "\n",
       "    .dataframe thead th {\n",
       "        text-align: right;\n",
       "    }\n",
       "</style>\n",
       "<table border=\"1\" class=\"dataframe\">\n",
       "  <thead>\n",
       "    <tr style=\"text-align: right;\">\n",
       "      <th></th>\n",
       "      <th>Id</th>\n",
       "      <th>Name</th>\n",
       "      <th>Year</th>\n",
       "      <th>Gender</th>\n",
       "      <th>Count</th>\n",
       "    </tr>\n",
       "  </thead>\n",
       "  <tbody>\n",
       "    <tr>\n",
       "      <th>0</th>\n",
       "      <td>1</td>\n",
       "      <td>Mary</td>\n",
       "      <td>1880</td>\n",
       "      <td>F</td>\n",
       "      <td>7065</td>\n",
       "    </tr>\n",
       "    <tr>\n",
       "      <th>1</th>\n",
       "      <td>2</td>\n",
       "      <td>Anna</td>\n",
       "      <td>1880</td>\n",
       "      <td>F</td>\n",
       "      <td>2604</td>\n",
       "    </tr>\n",
       "    <tr>\n",
       "      <th>2</th>\n",
       "      <td>3</td>\n",
       "      <td>Emma</td>\n",
       "      <td>1880</td>\n",
       "      <td>F</td>\n",
       "      <td>2003</td>\n",
       "    </tr>\n",
       "    <tr>\n",
       "      <th>3</th>\n",
       "      <td>4</td>\n",
       "      <td>Elizabeth</td>\n",
       "      <td>1880</td>\n",
       "      <td>F</td>\n",
       "      <td>1939</td>\n",
       "    </tr>\n",
       "    <tr>\n",
       "      <th>4</th>\n",
       "      <td>5</td>\n",
       "      <td>Minnie</td>\n",
       "      <td>1880</td>\n",
       "      <td>F</td>\n",
       "      <td>1746</td>\n",
       "    </tr>\n",
       "  </tbody>\n",
       "</table>\n",
       "</div>"
      ],
      "text/plain": [
       "   Id       Name  Year Gender  Count\n",
       "0   1       Mary  1880      F   7065\n",
       "1   2       Anna  1880      F   2604\n",
       "2   3       Emma  1880      F   2003\n",
       "3   4  Elizabeth  1880      F   1939\n",
       "4   5     Minnie  1880      F   1746"
      ]
     },
     "execution_count": 101,
     "metadata": {},
     "output_type": "execute_result"
    }
   ],
   "source": [
    "data.head()"
   ]
  },
  {
   "cell_type": "code",
   "execution_count": 102,
   "metadata": {},
   "outputs": [],
   "source": [
    "#take only the unique ones,suppose one name can be both used by male female, in that case we will take the value of gender 1 and , depending on how many were given to male or female \n",
    "label=LabelEncoder()\n",
    "data[\"Gender\"]=label.fit_transform(data.Gender)"
   ]
  },
  {
   "cell_type": "code",
   "execution_count": 103,
   "metadata": {},
   "outputs": [
    {
     "data": {
      "text/html": [
       "<div>\n",
       "<style scoped>\n",
       "    .dataframe tbody tr th:only-of-type {\n",
       "        vertical-align: middle;\n",
       "    }\n",
       "\n",
       "    .dataframe tbody tr th {\n",
       "        vertical-align: top;\n",
       "    }\n",
       "\n",
       "    .dataframe thead th {\n",
       "        text-align: right;\n",
       "    }\n",
       "</style>\n",
       "<table border=\"1\" class=\"dataframe\">\n",
       "  <thead>\n",
       "    <tr style=\"text-align: right;\">\n",
       "      <th></th>\n",
       "      <th>Name</th>\n",
       "      <th>Gender</th>\n",
       "    </tr>\n",
       "  </thead>\n",
       "  <tbody>\n",
       "    <tr>\n",
       "      <th>0</th>\n",
       "      <td>Aaban</td>\n",
       "      <td>1.0</td>\n",
       "    </tr>\n",
       "    <tr>\n",
       "      <th>1</th>\n",
       "      <td>Aabha</td>\n",
       "      <td>0.0</td>\n",
       "    </tr>\n",
       "    <tr>\n",
       "      <th>2</th>\n",
       "      <td>Aabid</td>\n",
       "      <td>1.0</td>\n",
       "    </tr>\n",
       "    <tr>\n",
       "      <th>3</th>\n",
       "      <td>Aabriella</td>\n",
       "      <td>0.0</td>\n",
       "    </tr>\n",
       "    <tr>\n",
       "      <th>4</th>\n",
       "      <td>Aadam</td>\n",
       "      <td>1.0</td>\n",
       "    </tr>\n",
       "    <tr>\n",
       "      <th>...</th>\n",
       "      <td>...</td>\n",
       "      <td>...</td>\n",
       "    </tr>\n",
       "    <tr>\n",
       "      <th>93884</th>\n",
       "      <td>Zytavious</td>\n",
       "      <td>1.0</td>\n",
       "    </tr>\n",
       "    <tr>\n",
       "      <th>93885</th>\n",
       "      <td>Zyvion</td>\n",
       "      <td>1.0</td>\n",
       "    </tr>\n",
       "    <tr>\n",
       "      <th>93886</th>\n",
       "      <td>Zyyanna</td>\n",
       "      <td>0.0</td>\n",
       "    </tr>\n",
       "    <tr>\n",
       "      <th>93887</th>\n",
       "      <td>Zyyon</td>\n",
       "      <td>1.0</td>\n",
       "    </tr>\n",
       "    <tr>\n",
       "      <th>93888</th>\n",
       "      <td>Zzyzx</td>\n",
       "      <td>1.0</td>\n",
       "    </tr>\n",
       "  </tbody>\n",
       "</table>\n",
       "<p>93889 rows × 2 columns</p>\n",
       "</div>"
      ],
      "text/plain": [
       "            Name  Gender\n",
       "0          Aaban     1.0\n",
       "1          Aabha     0.0\n",
       "2          Aabid     1.0\n",
       "3      Aabriella     0.0\n",
       "4          Aadam     1.0\n",
       "...          ...     ...\n",
       "93884  Zytavious     1.0\n",
       "93885     Zyvion     1.0\n",
       "93886    Zyyanna     0.0\n",
       "93887      Zyyon     1.0\n",
       "93888      Zzyzx     1.0\n",
       "\n",
       "[93889 rows x 2 columns]"
      ]
     },
     "execution_count": 103,
     "metadata": {},
     "output_type": "execute_result"
    }
   ],
   "source": [
    "df=data.groupby([\"Name\"]).mean()[[\"Gender\"]].reset_index()\n",
    "df"
   ]
  },
  {
   "cell_type": "code",
   "execution_count": 104,
   "metadata": {},
   "outputs": [],
   "source": [
    "import string"
   ]
  },
  {
   "cell_type": "code",
   "execution_count": 105,
   "metadata": {},
   "outputs": [],
   "source": [
    "letters=string.ascii_lowercase #all lower case alphabets"
   ]
  },
  {
   "cell_type": "code",
   "execution_count": 106,
   "metadata": {},
   "outputs": [],
   "source": [
    "vocab=dict(zip(letters,range(1,27)))"
   ]
  },
  {
   "cell_type": "code",
   "execution_count": 107,
   "metadata": {},
   "outputs": [
    {
     "data": {
      "text/plain": [
       "{'a': 1,\n",
       " 'b': 2,\n",
       " 'c': 3,\n",
       " 'd': 4,\n",
       " 'e': 5,\n",
       " 'f': 6,\n",
       " 'g': 7,\n",
       " 'h': 8,\n",
       " 'i': 9,\n",
       " 'j': 10,\n",
       " 'k': 11,\n",
       " 'l': 12,\n",
       " 'm': 13,\n",
       " 'n': 14,\n",
       " 'o': 15,\n",
       " 'p': 16,\n",
       " 'q': 17,\n",
       " 'r': 18,\n",
       " 's': 19,\n",
       " 't': 20,\n",
       " 'u': 21,\n",
       " 'v': 22,\n",
       " 'w': 23,\n",
       " 'x': 24,\n",
       " 'y': 25,\n",
       " 'z': 26}"
      ]
     },
     "execution_count": 107,
     "metadata": {},
     "output_type": "execute_result"
    }
   ],
   "source": [
    "vocab"
   ]
  },
  {
   "cell_type": "code",
   "execution_count": 108,
   "metadata": {},
   "outputs": [],
   "source": [
    "rev_vocab=dict(zip(range(1,27),letters))"
   ]
  },
  {
   "cell_type": "code",
   "execution_count": 109,
   "metadata": {},
   "outputs": [
    {
     "data": {
      "text/plain": [
       "{1: 'a',\n",
       " 2: 'b',\n",
       " 3: 'c',\n",
       " 4: 'd',\n",
       " 5: 'e',\n",
       " 6: 'f',\n",
       " 7: 'g',\n",
       " 8: 'h',\n",
       " 9: 'i',\n",
       " 10: 'j',\n",
       " 11: 'k',\n",
       " 12: 'l',\n",
       " 13: 'm',\n",
       " 14: 'n',\n",
       " 15: 'o',\n",
       " 16: 'p',\n",
       " 17: 'q',\n",
       " 18: 'r',\n",
       " 19: 's',\n",
       " 20: 't',\n",
       " 21: 'u',\n",
       " 22: 'v',\n",
       " 23: 'w',\n",
       " 24: 'x',\n",
       " 25: 'y',\n",
       " 26: 'z'}"
      ]
     },
     "execution_count": 109,
     "metadata": {},
     "output_type": "execute_result"
    }
   ],
   "source": [
    "rev_vocab"
   ]
  },
  {
   "cell_type": "code",
   "execution_count": 110,
   "metadata": {},
   "outputs": [
    {
     "data": {
      "text/plain": [
       "[5, 12, 9, 26, 1, 2, 5, 20, 8]"
      ]
     },
     "execution_count": 110,
     "metadata": {},
     "output_type": "execute_result"
    }
   ],
   "source": [
    "name=\"Elizabeth\"\n",
    "[vocab[ch] for ch in name.lower()]"
   ]
  },
  {
   "cell_type": "code",
   "execution_count": 111,
   "metadata": {},
   "outputs": [
    {
     "data": {
      "text/plain": [
       "['e', 'l', 'i', 'z', 'a', 'b', 'e', 't', 'h']"
      ]
     },
     "execution_count": 111,
     "metadata": {},
     "output_type": "execute_result"
    }
   ],
   "source": [
    "seq=[vocab[ch] for ch in name.lower()]\n",
    "[rev_vocab[ch] for ch in seq]"
   ]
  },
  {
   "cell_type": "code",
   "execution_count": 112,
   "metadata": {},
   "outputs": [],
   "source": [
    "X=[]\n",
    "for name in df.Name:\n",
    "    X.append([vocab[ch] for ch in name.lower()])\n",
    "    "
   ]
  },
  {
   "cell_type": "code",
   "execution_count": 113,
   "metadata": {},
   "outputs": [],
   "source": [
    "y=df.Gender"
   ]
  },
  {
   "cell_type": "code",
   "execution_count": 114,
   "metadata": {},
   "outputs": [],
   "source": [
    "#hum naam ko as a sequence of numbers se analyze krenge"
   ]
  },
  {
   "cell_type": "code",
   "execution_count": null,
   "metadata": {},
   "outputs": [],
   "source": []
  },
  {
   "cell_type": "code",
   "execution_count": 115,
   "metadata": {},
   "outputs": [],
   "source": [
    "#X is a list of list. All the names should be of same length\n",
    "#for processing in rnn, so we will use padding before inputting in rnn"
   ]
  },
  {
   "cell_type": "code",
   "execution_count": 116,
   "metadata": {},
   "outputs": [],
   "source": [
    "from tensorflow.keras.preprocessing.sequence import pad_sequences"
   ]
  },
  {
   "cell_type": "code",
   "execution_count": 117,
   "metadata": {},
   "outputs": [],
   "source": [
    "X=pad_sequences(X,maxlen=10) #to make all lengths equal by padding of zeros"
   ]
  },
  {
   "cell_type": "code",
   "execution_count": 118,
   "metadata": {},
   "outputs": [
    {
     "data": {
      "text/plain": [
       "((93889, 10), (93889,))"
      ]
     },
     "execution_count": 118,
     "metadata": {},
     "output_type": "execute_result"
    }
   ],
   "source": [
    "X.shape,y.shape #consists of all unique names"
   ]
  },
  {
   "cell_type": "code",
   "execution_count": 119,
   "metadata": {},
   "outputs": [],
   "source": [
    "from tensorflow.keras.layers import Input, Dense,SimpleRNN,Embedding\n",
    "from tensorflow.keras.models import Model\n",
    "#word embedding concept"
   ]
  },
  {
   "cell_type": "code",
   "execution_count": 120,
   "metadata": {},
   "outputs": [],
   "source": [
    "in_layer=Input(shape=(10,))\n",
    "embedding=Embedding(input_dim=27,output_dim=5)(in_layer) #characters-->27 #5 dimensional space main ocnvert krdiya\n",
    "#10 rows 5 columns\n",
    "rnn=SimpleRNN(units=30)(embedding)\n",
    "out_layer=Dense(units=1,activation=\"sigmoid\")(rnn)\n",
    "model=Model(in_layer,out_layer)"
   ]
  },
  {
   "cell_type": "code",
   "execution_count": 121,
   "metadata": {},
   "outputs": [
    {
     "name": "stdout",
     "output_type": "stream",
     "text": [
      "Model: \"model_1\"\n",
      "_________________________________________________________________\n",
      "Layer (type)                 Output Shape              Param #   \n",
      "=================================================================\n",
      "input_2 (InputLayer)         [(None, 10)]              0         \n",
      "_________________________________________________________________\n",
      "embedding_1 (Embedding)      (None, 10, 5)             135       \n",
      "_________________________________________________________________\n",
      "simple_rnn_1 (SimpleRNN)     (None, 30)                1080      \n",
      "_________________________________________________________________\n",
      "dense_1 (Dense)              (None, 1)                 31        \n",
      "=================================================================\n",
      "Total params: 1,246\n",
      "Trainable params: 1,246\n",
      "Non-trainable params: 0\n",
      "_________________________________________________________________\n"
     ]
    }
   ],
   "source": [
    "model.summary()"
   ]
  },
  {
   "cell_type": "code",
   "execution_count": 125,
   "metadata": {},
   "outputs": [],
   "source": [
    "model.compile(optimizer=\"adam\",loss=\"binary_crossentropy\",metrics=[\"accuracy\"])"
   ]
  },
  {
   "cell_type": "code",
   "execution_count": 136,
   "metadata": {},
   "outputs": [
    {
     "name": "stdout",
     "output_type": "stream",
     "text": [
      "Epoch 1/60\n",
      "94/94 [==============================] - 1s 8ms/step - loss: 0.3633 - accuracy: 0.7721\n",
      "Epoch 2/60\n",
      "94/94 [==============================] - 1s 8ms/step - loss: 0.3626 - accuracy: 0.7726\n",
      "Epoch 3/60\n",
      "94/94 [==============================] - 1s 8ms/step - loss: 0.3622 - accuracy: 0.7725\n",
      "Epoch 4/60\n",
      "94/94 [==============================] - 1s 8ms/step - loss: 0.3613 - accuracy: 0.7735\n",
      "Epoch 5/60\n",
      "94/94 [==============================] - 1s 7ms/step - loss: 0.3610 - accuracy: 0.7735\n",
      "Epoch 6/60\n",
      "94/94 [==============================] - 1s 7ms/step - loss: 0.3604 - accuracy: 0.7740\n",
      "Epoch 7/60\n",
      "94/94 [==============================] - 1s 8ms/step - loss: 0.3594 - accuracy: 0.7746\n",
      "Epoch 8/60\n",
      "94/94 [==============================] - 1s 7ms/step - loss: 0.3591 - accuracy: 0.7744\n",
      "Epoch 9/60\n",
      "94/94 [==============================] - 1s 7ms/step - loss: 0.3585 - accuracy: 0.7750\n",
      "Epoch 10/60\n",
      "94/94 [==============================] - 1s 8ms/step - loss: 0.3577 - accuracy: 0.7754\n",
      "Epoch 11/60\n",
      "94/94 [==============================] - 1s 8ms/step - loss: 0.3570 - accuracy: 0.7754\n",
      "Epoch 12/60\n",
      "94/94 [==============================] - 1s 7ms/step - loss: 0.3562 - accuracy: 0.7764\n",
      "Epoch 13/60\n",
      "94/94 [==============================] - 1s 8ms/step - loss: 0.3557 - accuracy: 0.7769\n",
      "Epoch 14/60\n",
      "94/94 [==============================] - 1s 8ms/step - loss: 0.3552 - accuracy: 0.7764\n",
      "Epoch 15/60\n",
      "94/94 [==============================] - 1s 8ms/step - loss: 0.3543 - accuracy: 0.7774\n",
      "Epoch 16/60\n",
      "94/94 [==============================] - 1s 9ms/step - loss: 0.3537 - accuracy: 0.7769\n",
      "Epoch 17/60\n",
      "94/94 [==============================] - 1s 8ms/step - loss: 0.3525 - accuracy: 0.7779\n",
      "Epoch 18/60\n",
      "94/94 [==============================] - 1s 8ms/step - loss: 0.3519 - accuracy: 0.7778\n",
      "Epoch 19/60\n",
      "94/94 [==============================] - 1s 8ms/step - loss: 0.3511 - accuracy: 0.7788\n",
      "Epoch 20/60\n",
      "94/94 [==============================] - 1s 8ms/step - loss: 0.3505 - accuracy: 0.7786\n",
      "Epoch 21/60\n",
      "94/94 [==============================] - 1s 8ms/step - loss: 0.3507 - accuracy: 0.7788\n",
      "Epoch 22/60\n",
      "94/94 [==============================] - 1s 8ms/step - loss: 0.3497 - accuracy: 0.7793\n",
      "Epoch 23/60\n",
      "94/94 [==============================] - 1s 8ms/step - loss: 0.3490 - accuracy: 0.7797\n",
      "Epoch 24/60\n",
      "94/94 [==============================] - 1s 8ms/step - loss: 0.3479 - accuracy: 0.7803\n",
      "Epoch 25/60\n",
      "94/94 [==============================] - 1s 8ms/step - loss: 0.3472 - accuracy: 0.7808\n",
      "Epoch 26/60\n",
      "94/94 [==============================] - 1s 8ms/step - loss: 0.3467 - accuracy: 0.7810\n",
      "Epoch 27/60\n",
      "94/94 [==============================] - 1s 8ms/step - loss: 0.3461 - accuracy: 0.7810\n",
      "Epoch 28/60\n",
      "94/94 [==============================] - 1s 8ms/step - loss: 0.3459 - accuracy: 0.7814\n",
      "Epoch 29/60\n",
      "94/94 [==============================] - 1s 8ms/step - loss: 0.3451 - accuracy: 0.7818\n",
      "Epoch 30/60\n",
      "94/94 [==============================] - 1s 8ms/step - loss: 0.3445 - accuracy: 0.7822\n",
      "Epoch 31/60\n",
      "94/94 [==============================] - 1s 8ms/step - loss: 0.3439 - accuracy: 0.7828\n",
      "Epoch 32/60\n",
      "94/94 [==============================] - 1s 8ms/step - loss: 0.3436 - accuracy: 0.7830\n",
      "Epoch 33/60\n",
      "94/94 [==============================] - 1s 8ms/step - loss: 0.3432 - accuracy: 0.7827\n",
      "Epoch 34/60\n",
      "94/94 [==============================] - 1s 8ms/step - loss: 0.3424 - accuracy: 0.7831\n",
      "Epoch 35/60\n",
      "94/94 [==============================] - 1s 8ms/step - loss: 0.3417 - accuracy: 0.7836\n",
      "Epoch 36/60\n",
      "94/94 [==============================] - 1s 8ms/step - loss: 0.3412 - accuracy: 0.7838\n",
      "Epoch 37/60\n",
      "94/94 [==============================] - 1s 8ms/step - loss: 0.3407 - accuracy: 0.7840\n",
      "Epoch 38/60\n",
      "94/94 [==============================] - 1s 8ms/step - loss: 0.3400 - accuracy: 0.7850\n",
      "Epoch 39/60\n",
      "94/94 [==============================] - 1s 8ms/step - loss: 0.3398 - accuracy: 0.7850\n",
      "Epoch 40/60\n",
      "94/94 [==============================] - 1s 8ms/step - loss: 0.3395 - accuracy: 0.7851\n",
      "Epoch 41/60\n",
      "94/94 [==============================] - 1s 8ms/step - loss: 0.3389 - accuracy: 0.7853\n",
      "Epoch 42/60\n",
      "94/94 [==============================] - 1s 9ms/step - loss: 0.3383 - accuracy: 0.7857\n",
      "Epoch 43/60\n",
      "94/94 [==============================] - 1s 8ms/step - loss: 0.3382 - accuracy: 0.7859\n",
      "Epoch 44/60\n",
      "94/94 [==============================] - 1s 8ms/step - loss: 0.3377 - accuracy: 0.7858\n",
      "Epoch 45/60\n",
      "94/94 [==============================] - 1s 8ms/step - loss: 0.3371 - accuracy: 0.7859\n",
      "Epoch 46/60\n",
      "94/94 [==============================] - 1s 8ms/step - loss: 0.3367 - accuracy: 0.7861\n",
      "Epoch 47/60\n",
      "94/94 [==============================] - 1s 8ms/step - loss: 0.3363 - accuracy: 0.7870\n",
      "Epoch 48/60\n",
      "94/94 [==============================] - 1s 8ms/step - loss: 0.3358 - accuracy: 0.7871\n",
      "Epoch 49/60\n",
      "94/94 [==============================] - 1s 8ms/step - loss: 0.3363 - accuracy: 0.7867: 0s - loss: 0.3365 - accuracy: \n",
      "Epoch 50/60\n",
      "94/94 [==============================] - 1s 8ms/step - loss: 0.3351 - accuracy: 0.7872\n",
      "Epoch 51/60\n",
      "94/94 [==============================] - 1s 8ms/step - loss: 0.3345 - accuracy: 0.7877\n",
      "Epoch 52/60\n",
      "94/94 [==============================] - 1s 8ms/step - loss: 0.3346 - accuracy: 0.7877\n",
      "Epoch 53/60\n",
      "94/94 [==============================] - 1s 8ms/step - loss: 0.3339 - accuracy: 0.7878\n",
      "Epoch 54/60\n",
      "94/94 [==============================] - 1s 8ms/step - loss: 0.3336 - accuracy: 0.7886\n",
      "Epoch 55/60\n",
      "94/94 [==============================] - 1s 8ms/step - loss: 0.3335 - accuracy: 0.7880\n",
      "Epoch 56/60\n",
      "94/94 [==============================] - 1s 8ms/step - loss: 0.3332 - accuracy: 0.7876\n",
      "Epoch 57/60\n",
      "94/94 [==============================] - 1s 8ms/step - loss: 0.3327 - accuracy: 0.7882\n",
      "Epoch 58/60\n",
      "94/94 [==============================] - 1s 8ms/step - loss: 0.3318 - accuracy: 0.7888\n",
      "Epoch 59/60\n",
      "94/94 [==============================] - 1s 8ms/step - loss: 0.3315 - accuracy: 0.7889\n",
      "Epoch 60/60\n",
      "94/94 [==============================] - 1s 8ms/step - loss: 0.3318 - accuracy: 0.7886\n"
     ]
    },
    {
     "data": {
      "text/plain": [
       "<tensorflow.python.keras.callbacks.History at 0x2cb2d635248>"
      ]
     },
     "execution_count": 136,
     "metadata": {},
     "output_type": "execute_result"
    }
   ],
   "source": [
    "model.fit(X,y.values,batch_size=1000,epochs=60)"
   ]
  },
  {
   "cell_type": "code",
   "execution_count": 153,
   "metadata": {},
   "outputs": [
    {
     "name": "stdout",
     "output_type": "stream",
     "text": [
      "Female\n"
     ]
    }
   ],
   "source": [
    "name=\"Seeta\"\n",
    "seq=[vocab[ch] for ch in name.lower()]\n",
    "x_test=pad_sequences([seq],maxlen=10)\n",
    "predict=model.predict(x_test)\n",
    "if predict[0]>0.5:\n",
    "    print(\"Male\")\n",
    "else: print(\"Female\")"
   ]
  },
  {
   "cell_type": "code",
   "execution_count": null,
   "metadata": {},
   "outputs": [],
   "source": []
  }
 ],
 "metadata": {
  "kernelspec": {
   "display_name": "Python 3",
   "language": "python",
   "name": "python3"
  },
  "language_info": {
   "codemirror_mode": {
    "name": "ipython",
    "version": 3
   },
   "file_extension": ".py",
   "mimetype": "text/x-python",
   "name": "python",
   "nbconvert_exporter": "python",
   "pygments_lexer": "ipython3",
   "version": "3.7.6"
  }
 },
 "nbformat": 4,
 "nbformat_minor": 4
}
