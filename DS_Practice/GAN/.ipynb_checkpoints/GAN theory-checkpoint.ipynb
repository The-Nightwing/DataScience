{
 "cells": [
  {
   "cell_type": "code",
   "execution_count": 1,
   "metadata": {},
   "outputs": [],
   "source": [
    "#GAN"
   ]
  },
  {
   "cell_type": "markdown",
   "metadata": {},
   "source": [
    "1.Generate a mini batch from genrator using Noise-Prior(Ground truth-0)\n",
    "\n",
    "2.select a mini batch from real training data(ground truth 1)\n",
    "\n",
    "3.Train only discriminator on both patches seperately: \n",
    "    consider generator as frozen\n",
    "    \n",
    "4.Train g using random noise as input 1 as ground truth 1 as 1 for all examples:\n",
    "    consider discriminator  as frozen"
   ]
  },
  {
   "cell_type": "code",
   "execution_count": 2,
   "metadata": {},
   "outputs": [],
   "source": [
    "##GAN tricks"
   ]
  },
  {
   "cell_type": "markdown",
   "metadata": {},
   "source": [
    "1)Normalize inputs between [-1,1] and use tanh as activation for generator.\n",
    "\n",
    "2)Noise should be sample from Gaussian distribution.(use of randn)\n",
    "\n",
    "3)Avoid sparse Gradients:\n",
    "\n",
    "    a)Prefer leaky relu\n",
    "    \n",
    "    b)Prefer Strided convolutions instead of max Pooling\n",
    "    \n",
    "    c)Use adam for optimization\n",
    "    \n",
    "    d)One sided label smoothing- Use 0 and 0.9 instead of 0 and 1 for the discriminator."
   ]
  },
  {
   "cell_type": "code",
   "execution_count": null,
   "metadata": {},
   "outputs": [],
   "source": []
  },
  {
   "cell_type": "code",
   "execution_count": null,
   "metadata": {},
   "outputs": [],
   "source": []
  }
 ],
 "metadata": {
  "kernelspec": {
   "display_name": "Python 3",
   "language": "python",
   "name": "python3"
  },
  "language_info": {
   "codemirror_mode": {
    "name": "ipython",
    "version": 3
   },
   "file_extension": ".py",
   "mimetype": "text/x-python",
   "name": "python",
   "nbconvert_exporter": "python",
   "pygments_lexer": "ipython3",
   "version": "3.7.6"
  }
 },
 "nbformat": 4,
 "nbformat_minor": 4
}
