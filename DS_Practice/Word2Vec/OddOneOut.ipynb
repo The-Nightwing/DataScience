{
 "cells": [
  {
   "cell_type": "markdown",
   "metadata": {},
   "source": [
    "<b>Word2Vec Model</b>\n",
    "\n",
    "- Google Pretrained Model\n",
    "\n",
    "- Contains vector representations of 50 billion Words\n",
    "\n",
    "- Words which are similar in context have similar vectors\n",
    "\n",
    "- Distance/Similarity between two words can be measured using cosine distance\n",
    "\n",
    "\n",
    "\n",
    "<b>Application</b>\n",
    " \n",
    "- Text similarity\n",
    "  \n",
    "- Language Translation\n",
    "    \n",
    "- Finding Odd words"
   ]
  },
  {
   "cell_type": "markdown",
   "metadata": {},
   "source": [
    "<b>Word Embeddings</b>\n",
    "\n",
    "- Word embeddings are numerical representation of words, in the form of vectors.\n",
    "\n",
    "- Word2Vec Model represents each word as 300 dimensional Vector.\n",
    "\n",
    "- In this tutorial we are going to see how to use pre-trained Word2Vec model.\n",
    "\n",
    "- We will work using Gensim, which is popular NLP Package.\n",
    "\n"
   ]
  },
  {
   "cell_type": "markdown",
   "metadata": {},
   "source": [
    "Genism's Word2Vec Model provides optimum implemnetation of\n",
    "\n",
    "- CBOW Model #Continous Bag of words\n",
    "\n",
    "- SkipGram Model\n",
    "\n",
    "Paper 1 \n",
    "\n",
    "Paper 2"
   ]
  },
  {
   "cell_type": "markdown",
   "metadata": {},
   "source": [
    "<b> Word2Vec using Genism </b>\n",
    "Link:https://radimrehurek.com/gensim/models/word2vec.html"
   ]
  },
  {
   "cell_type": "markdown",
   "metadata": {},
   "source": [
    "<b>CODE</b>"
   ]
  },
  {
   "cell_type": "markdown",
   "metadata": {},
   "source": [
    "<b>Load Word2Vec Model</b>"
   ]
  },
  {
   "cell_type": "markdown",
   "metadata": {},
   "source": [
    "<b>KeyedVectors</b>-This object essentially contains the mapping between words and embeddings. After Training, it can be used directly to query those embeddings in various ways."
   ]
  },
  {
   "cell_type": "code",
   "execution_count": 4,
   "metadata": {},
   "outputs": [],
   "source": [
    "import gensim\n",
    "from gensim.models import word2vec \n",
    "from gensim.models import KeyedVectors\n",
    "from sklearn.metrics.pairwise import cosine_similarity"
   ]
  },
  {
   "cell_type": "code",
   "execution_count": 5,
   "metadata": {},
   "outputs": [],
   "source": [
    "word_vectors=KeyedVectors.load_word2vec_format('GoogleNews-vectors-negative300.bin',binary=True)"
   ]
  },
  {
   "cell_type": "code",
   "execution_count": 32,
   "metadata": {},
   "outputs": [],
   "source": [
    "v_apple=word_vectors[\"Head\"]\n",
    "v_mango=word_vectors[\"Brain\"]"
   ]
  },
  {
   "cell_type": "code",
   "execution_count": 33,
   "metadata": {},
   "outputs": [
    {
     "data": {
      "text/plain": [
       "((300,), (300,))"
      ]
     },
     "execution_count": 33,
     "metadata": {},
     "output_type": "execute_result"
    }
   ],
   "source": [
    "v_apple.shape,v_mango.shape"
   ]
  },
  {
   "cell_type": "code",
   "execution_count": 34,
   "metadata": {},
   "outputs": [
    {
     "data": {
      "text/plain": [
       "array([[0.18469939]], dtype=float32)"
      ]
     },
     "execution_count": 34,
     "metadata": {},
     "output_type": "execute_result"
    }
   ],
   "source": [
    "cosine_similarity([v_apple],[v_mango]) #for similarity"
   ]
  },
  {
   "cell_type": "markdown",
   "metadata": {},
   "source": [
    "<b>Picking ODD one out</b>"
   ]
  },
  {
   "cell_type": "code",
   "execution_count": 35,
   "metadata": {},
   "outputs": [],
   "source": [
    "import numpy as np\n",
    "input_1=[\"nokia\",\"samsung\",\"iphone\",\"berry\",\"red\"]"
   ]
  },
  {
   "cell_type": "code",
   "execution_count": 36,
   "metadata": {},
   "outputs": [],
   "source": [
    "def odd_one_out(words):\n",
    "    \"\"\"Accepts a list of words and returns the odd word\"\"\"\n",
    "    all_word_vectors = [word_vectors[w.lower()] for w in words]\n",
    "        \n",
    "    avg_vector=np.mean(all_word_vectors,axis=0)#along a row\n",
    "    \n",
    "    #iterate over every word and find similarity\n",
    "    odd_one_out = None\n",
    "    min_similarity = 99999 #any max value\n",
    "    \n",
    "    for w in words:\n",
    "        sim = cosine_similarity([word_vectors[w]],[avg_vector])\n",
    "        if sim < min_similarity:\n",
    "            min_similarity = sim\n",
    "            odd_one_out = w\n",
    "            \n",
    "    return odd_one_out\n",
    "    "
   ]
  },
  {
   "cell_type": "code",
   "execution_count": 37,
   "metadata": {},
   "outputs": [
    {
     "data": {
      "text/plain": [
       "'red'"
      ]
     },
     "execution_count": 37,
     "metadata": {},
     "output_type": "execute_result"
    }
   ],
   "source": [
    "odd_one_out(input_1)"
   ]
  },
  {
   "cell_type": "code",
   "execution_count": null,
   "metadata": {},
   "outputs": [],
   "source": []
  }
 ],
 "metadata": {
  "kernelspec": {
   "display_name": "Python 3",
   "language": "python",
   "name": "python3"
  },
  "language_info": {
   "codemirror_mode": {
    "name": "ipython",
    "version": 3
   },
   "file_extension": ".py",
   "mimetype": "text/x-python",
   "name": "python",
   "nbconvert_exporter": "python",
   "pygments_lexer": "ipython3",
   "version": "3.8.3"
  }
 },
 "nbformat": 4,
 "nbformat_minor": 4
}
