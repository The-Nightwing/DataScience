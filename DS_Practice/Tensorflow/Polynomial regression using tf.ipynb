{
 "cells": [
  {
   "cell_type": "code",
   "execution_count": 1,
   "metadata": {},
   "outputs": [],
   "source": [
    "import tensorflow as tf\n",
    "import numpy as np\n",
    "import pandas as pd\n",
    "import matplotlib.pyplot as plt"
   ]
  },
  {
   "cell_type": "code",
   "execution_count": 2,
   "metadata": {},
   "outputs": [],
   "source": [
    "from sklearn.datasets import make_regression"
   ]
  },
  {
   "cell_type": "code",
   "execution_count": 12,
   "metadata": {},
   "outputs": [],
   "source": [
    "X=np.linspace(-50,20,100)\n",
    "noise=np.random.uniform(-50,15,100)\n",
    "y=3*X*X+5*X+10+noise"
   ]
  },
  {
   "cell_type": "code",
   "execution_count": 13,
   "metadata": {},
   "outputs": [
    {
     "data": {
      "text/plain": [
       "array([ 7.23907959e+03,  7.03543826e+03,  6.81991886e+03,  6.61531819e+03,\n",
       "        6.43106192e+03,  6.23303550e+03,  6.06329002e+03,  5.88370043e+03,\n",
       "        5.64977053e+03,  5.49247303e+03,  5.30086824e+03,  5.13733992e+03,\n",
       "        4.96698635e+03,  4.80872746e+03,  4.60741121e+03,  4.42999550e+03,\n",
       "        4.27983169e+03,  4.11289338e+03,  3.94293901e+03,  3.85114272e+03,\n",
       "        3.66805781e+03,  3.53171847e+03,  3.37497811e+03,  3.23259572e+03,\n",
       "        3.09952678e+03,  2.99745112e+03,  2.86286871e+03,  2.67789980e+03,\n",
       "        2.58111985e+03,  2.43533541e+03,  2.33803079e+03,  2.23434608e+03,\n",
       "        2.09128164e+03,  1.97731054e+03,  1.89929502e+03,  1.79911669e+03,\n",
       "        1.65533175e+03,  1.57943478e+03,  1.50660717e+03,  1.40909864e+03,\n",
       "        1.27340494e+03,  1.20833590e+03,  1.15546482e+03,  1.04207027e+03,\n",
       "        9.46789576e+02,  8.84928859e+02,  8.25120087e+02,  7.35179592e+02,\n",
       "        6.84907515e+02,  6.41449881e+02,  5.93565689e+02,  4.87815883e+02,\n",
       "        4.58986085e+02,  4.09193232e+02,  3.65215425e+02,  3.35148565e+02,\n",
       "        2.75506613e+02,  2.39726639e+02,  1.93956264e+02,  1.28478737e+02,\n",
       "        1.57081279e+02,  7.49255170e+01,  9.03680224e+01,  2.87406632e+01,\n",
       "        2.47414512e+01,  5.02805795e+01, -1.39377116e+01, -1.99029215e+01,\n",
       "        4.90803014e+00,  9.57274234e+00, -4.82381020e+00, -4.86218164e+00,\n",
       "        7.63549487e+00,  3.19871349e+01, -4.73701259e-01,  4.38629371e+01,\n",
       "        7.75279172e+01,  9.30141609e+01,  1.09324585e+02,  1.51803122e+02,\n",
       "        1.39665270e+02,  2.03677016e+02,  2.53334557e+02,  2.82098617e+02,\n",
       "        2.93647499e+02,  3.21657930e+02,  4.24825984e+02,  4.65862394e+02,\n",
       "        5.23841297e+02,  5.33457828e+02,  6.27018257e+02,  6.76860948e+02,\n",
       "        7.46971059e+02,  8.02962835e+02,  8.88717857e+02,  9.36640369e+02,\n",
       "        1.03702641e+03,  1.10538542e+03,  1.19124991e+03,  1.27115292e+03])"
      ]
     },
     "execution_count": 13,
     "metadata": {},
     "output_type": "execute_result"
    }
   ],
   "source": [
    "y"
   ]
  },
  {
   "cell_type": "code",
   "execution_count": 9,
   "metadata": {},
   "outputs": [
    {
     "data": {
      "text/plain": [
       "<matplotlib.collections.PathCollection at 0x1efe3fada88>"
      ]
     },
     "execution_count": 9,
     "metadata": {},
     "output_type": "execute_result"
    },
    {
     "data": {
      "image/png": "[encoded data removed]",
      "text/plain": [
       "<Figure size 432x288 with 1 Axes>"
      ]
     },
     "metadata": {
      "needs_background": "light"
     },
     "output_type": "display_data"
    }
   ],
   "source": [
    "plt.scatter(X,y)"
   ]
  },
  {
   "cell_type": "code",
   "execution_count": 64,
   "metadata": {},
   "outputs": [],
   "source": [
    "X_mod=(X-X.mean())/X.std()\n",
    "Y_mod=(y-y.mean())/y.std()"
   ]
  },
  {
   "cell_type": "code",
   "execution_count": 71,
   "metadata": {},
   "outputs": [],
   "source": [
    "X_tf=tf.constant(X_mod,dtype=\"float64\")\n",
    "Y_tf=tf.constant(Y_mod,dtype=\"float64\")"
   ]
  },
  {
   "cell_type": "code",
   "execution_count": 72,
   "metadata": {},
   "outputs": [],
   "source": [
    "a=tf.Variable(0.,dtype=\"float64\")\n",
    "b=tf.Variable(0.,dtype=\"float64\")\n",
    "c=tf.Variable(0.,dtype=\"float64\")\n",
    "iters=100\n",
    "lr=0.1"
   ]
  },
  {
   "cell_type": "code",
   "execution_count": 73,
   "metadata": {},
   "outputs": [],
   "source": [
    "def gradient_dec(X,Y):\n",
    "    with tf.GradientTape() as tape:\n",
    "        y_h=a*X*X+b*X+c\n",
    "\n",
    "        error=Y-y_h\n",
    "        loss=tf.reduce_mean(error**2)\n",
    "        \n",
    "        da,db,dc=tape.gradient(loss,[a,b,c])\n",
    "        \n",
    "        a.assign_sub(lr*da)\n",
    "        b.assign_sub(lr*db)\n",
    "        c.assign_sub(lr*dc)\n",
    "        \n",
    "        return loss"
   ]
  },
  {
   "cell_type": "code",
   "execution_count": 74,
   "metadata": {},
   "outputs": [],
   "source": [
    "for i in range(iters):\n",
    "    gradient_dec(X_tf,Y_tf)"
   ]
  },
  {
   "cell_type": "code",
   "execution_count": 75,
   "metadata": {},
   "outputs": [],
   "source": [
    "y_pred=a*X_tf*X_tf+b*X_tf+c"
   ]
  },
  {
   "cell_type": "code",
   "execution_count": 76,
   "metadata": {},
   "outputs": [
    {
     "data": {
      "text/plain": [
       "<matplotlib.collections.PathCollection at 0x1efe55cdc88>"
      ]
     },
     "execution_count": 76,
     "metadata": {},
     "output_type": "execute_result"
    },
    {
     "data": {
      "image/png": "[encoded data removed]",
      "text/plain": [
       "<Figure size 432x288 with 1 Axes>"
      ]
     },
     "metadata": {
      "needs_background": "light"
     },
     "output_type": "display_data"
    }
   ],
   "source": [
    "plt.scatter(X_tf,Y_tf)\n",
    "plt.scatter(X_tf,y_pred)"
   ]
  },
  {
   "cell_type": "code",
   "execution_count": null,
   "metadata": {},
   "outputs": [],
   "source": []
  }
 ],
 "metadata": {
  "kernelspec": {
   "display_name": "Python 3",
   "language": "python",
   "name": "python3"
  },
  "language_info": {
   "codemirror_mode": {
    "name": "ipython",
    "version": 3
   },
   "file_extension": ".py",
   "mimetype": "text/x-python",
   "name": "python",
   "nbconvert_exporter": "python",
   "pygments_lexer": "ipython3",
   "version": "3.7.6"
  }
 },
 "nbformat": 4,
 "nbformat_minor": 4
}
