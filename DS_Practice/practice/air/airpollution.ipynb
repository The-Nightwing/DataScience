{
 "cells": [
  {
   "cell_type": "code",
   "execution_count": 29,
   "metadata": {},
   "outputs": [],
   "source": [
    "import numpy as np"
   ]
  },
  {
   "cell_type": "code",
   "execution_count": 2,
   "metadata": {},
   "outputs": [],
   "source": [
    "import pandas as pd"
   ]
  },
  {
   "cell_type": "code",
   "execution_count": 30,
   "metadata": {},
   "outputs": [],
   "source": [
    "import matplotlib.pyplot as plt\n",
    "from sklearn import linear_model"
   ]
  },
  {
   "cell_type": "code",
   "execution_count": 31,
   "metadata": {},
   "outputs": [],
   "source": [
    "data=pd.read_csv('C:/Users/verma/Desktop/youtube/practice/air/Train.csv',usecols=['feature_1','feature_2','feature_3','feature_4','feature_5'])\n",
    "X=data.values"
   ]
  },
  {
   "cell_type": "code",
   "execution_count": 32,
   "metadata": {},
   "outputs": [],
   "source": [
    "data1=pd.read_csv('C:/Users/verma/Desktop/youtube/practice/air/Train.csv',usecols=['target'])\n",
    "y=data1.values\n"
   ]
  },
  {
   "cell_type": "code",
   "execution_count": 33,
   "metadata": {},
   "outputs": [],
   "source": [
    "u=X.mean(axis=0)\n",
    "p=X.std(axis=0)\n",
    "X=(X-u)/p"
   ]
  },
  {
   "cell_type": "code",
   "execution_count": 7,
   "metadata": {},
   "outputs": [
    {
     "data": {
      "text/plain": [
       "((1600, 5), (1600, 1))"
      ]
     },
     "execution_count": 7,
     "metadata": {},
     "output_type": "execute_result"
    }
   ],
   "source": [
    "X.shape, y.shape"
   ]
  },
  {
   "cell_type": "code",
   "execution_count": 8,
   "metadata": {},
   "outputs": [],
   "source": [
    "ex=np.ones((X.shape[0],1))"
   ]
  },
  {
   "cell_type": "code",
   "execution_count": 9,
   "metadata": {},
   "outputs": [],
   "source": [
    "X=np.hstack((ex,X))#to add the column of ones at front of X\n"
   ]
  },
  {
   "cell_type": "code",
   "execution_count": 21,
   "metadata": {},
   "outputs": [
    {
     "data": {
      "text/plain": [
       "array([[ 1.        ,  0.29016495, -0.89871183, -0.37238147,  0.44177059,\n",
       "         0.52502448],\n",
       "       [ 1.        , -0.84270473, -0.15822922, -0.72365639, -0.99464217,\n",
       "         0.59896038]])"
      ]
     },
     "execution_count": 21,
     "metadata": {},
     "output_type": "execute_result"
    }
   ],
   "source": [
    "X[0:2]"
   ]
  },
  {
   "cell_type": "code",
   "execution_count": 16,
   "metadata": {},
   "outputs": [],
   "source": [
    "def hypo(x,theta):\n",
    "    y_=0.0\n",
    "    n=x.shape[0]\n",
    "    for i in range(n):\n",
    "        y_+=(theta[i]*x[i])\n",
    "    return y_\n",
    "\n",
    "def error(X,y,theta):\n",
    "    e=0.0\n",
    "    n=X.shape[0]\n",
    "    for i in range(n):\n",
    "        y_=hypo(X[i],theta)\n",
    "        e+=(y_-y[i])**2\n",
    "    return e/n\n",
    "\n",
    "def gradient(X,y,theta):\n",
    "    m,n=X.shape\n",
    "    grad=np.zeros((n,))\n",
    "    for i in range(n):\n",
    "        for j in range(m):\n",
    "            yhp=hypo(X[j],theta)\n",
    "            Y=y[j]\n",
    "            grad[i]+=(yhp-Y)*X[j][i]\n",
    "    return grad/m\n",
    "\n",
    "def gradient_desc(X,y,lr=0.1,iters=500):\n",
    "    m,n=X.shape\n",
    "    theta=np.zeros((n,))\n",
    "    errors=[]\n",
    "    for i in range(iters):\n",
    "        e=error(X,y,theta)\n",
    "        errors.append(e)\n",
    "        grad=gradient(X,y,theta)\n",
    "        for j in range(n):\n",
    "            theta[j]=theta[j]-lr*grad[j]\n",
    "            \n",
    "    return theta,errors        "
   ]
  },
  {
   "cell_type": "code",
   "execution_count": 17,
   "metadata": {},
   "outputs": [],
   "source": [
    "theta,errors=gradient_desc(X,y)"
   ]
  },
  {
   "cell_type": "code",
   "execution_count": 18,
   "metadata": {},
   "outputs": [
    {
     "data": {
      "text/plain": [
       "[<matplotlib.lines.Line2D at 0x2881d19f808>]"
      ]
     },
     "execution_count": 18,
     "metadata": {},
     "output_type": "execute_result"
    },
    {
     "data": {
      "image/png": "[encoded data removed]",
      "text/plain": [
       "<Figure size 432x288 with 1 Axes>"
      ]
     },
     "metadata": {
      "needs_background": "light"
     },
     "output_type": "display_data"
    }
   ],
   "source": [
    "plt.plot(errors)"
   ]
  },
  {
   "cell_type": "code",
   "execution_count": 25,
   "metadata": {},
   "outputs": [],
   "source": [
    "y_=[]\n",
    "for i in range(X.shape[0]):\n",
    "    pred=hypo(X[i],theta)\n",
    "    y_.append(pred)\n",
    "y_=np.array(y_)\n",
    "\n",
    "def r2(y,y_):\n",
    "    num=np.sum((y_-y)**2)\n",
    "    den=np.sum((y-np.mean(y_))**2)\n",
    "    sum=1-(num/den)\n",
    "    print(sum*100)"
   ]
  },
  {
   "cell_type": "code",
   "execution_count": 28,
   "metadata": {},
   "outputs": [
    {
     "name": "stdout",
     "output_type": "stream",
     "text": [
      "-314475.03471960954\n"
     ]
    }
   ],
   "source": [
    "r2(y,y_)"
   ]
  },
  {
   "cell_type": "code",
   "execution_count": null,
   "metadata": {},
   "outputs": [],
   "source": []
  }
 ],
 "metadata": {
  "kernelspec": {
   "display_name": "Python 3",
   "language": "python",
   "name": "python3"
  },
  "language_info": {
   "codemirror_mode": {
    "name": "ipython",
    "version": 3
   },
   "file_extension": ".py",
   "mimetype": "text/x-python",
   "name": "python",
   "nbconvert_exporter": "python",
   "pygments_lexer": "ipython3",
   "version": "3.7.6"
  }
 },
 "nbformat": 4,
 "nbformat_minor": 4
}
