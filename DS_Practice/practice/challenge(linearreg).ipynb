{
 "cells": [
  {
   "cell_type": "code",
   "execution_count": 243,
   "metadata": {},
   "outputs": [],
   "source": [
    "import numpy as np\n",
    "import pandas as pd\n",
    "import matplotlib.pyplot as plt"
   ]
  },
  {
   "cell_type": "code",
   "execution_count": 244,
   "metadata": {},
   "outputs": [],
   "source": [
    "data=pd.read_csv('C:/Users/verma/Desktop/youtube/practice/data/Linear_X_Train.csv')\n",
    "data1=pd.read_csv('C:/Users/verma/Desktop/youtube/practice/data/Linear_Y_Train.csv')\n"
   ]
  },
  {
   "cell_type": "code",
   "execution_count": 245,
   "metadata": {},
   "outputs": [
    {
     "data": {
      "text/plain": [
       "<matplotlib.collections.PathCollection at 0x159dd763d88>"
      ]
     },
     "execution_count": 245,
     "metadata": {},
     "output_type": "execute_result"
    },
    {
     "data": {
      "image/png": "[encoded data removed]",
      "text/plain": [
       "<Figure size 432x288 with 1 Axes>"
      ]
     },
     "metadata": {
      "needs_background": "light"
     },
     "output_type": "display_data"
    }
   ],
   "source": [
    "X=data.values\n",
    "y=data1.values\n",
    "plt.scatter(X,y)"
   ]
  },
  {
   "cell_type": "code",
   "execution_count": 246,
   "metadata": {},
   "outputs": [],
   "source": [
    "u=X.mean()\n",
    "p=X.std()\n",
    "X=(X-u)/p"
   ]
  },
  {
   "cell_type": "code",
   "execution_count": 247,
   "metadata": {},
   "outputs": [
    {
     "data": {
      "text/plain": [
       "<matplotlib.collections.PathCollection at 0x159dd7d2d48>"
      ]
     },
     "execution_count": 247,
     "metadata": {},
     "output_type": "execute_result"
    },
    {
     "data": {
      "image/png": "[encoded data removed]",
      "text/plain": [
       "<Figure size 432x288 with 1 Axes>"
      ]
     },
     "metadata": {
      "needs_background": "light"
     },
     "output_type": "display_data"
    }
   ],
   "source": [
    "plt.scatter(X,y)"
   ]
  },
  {
   "cell_type": "code",
   "execution_count": 248,
   "metadata": {},
   "outputs": [],
   "source": [
    "def hypo(x,theta):\n",
    "    y_=theta[0]+x*theta[1]\n",
    "    return y_\n",
    "    \n",
    "def gradient(X,y,theta):\n",
    "    n=X.shape[0]\n",
    "    grad=np.zeros((2,))\n",
    "    for i in range(n):\n",
    "        Y=hypo(X[i],theta)\n",
    "        yp=y[i]\n",
    "        grad[0]+=(Y-yp)\n",
    "        grad[1]+=(Y-yp)*X[i]\n",
    "    return grad/n\n",
    "\n",
    "def error(X,y,theta):\n",
    "    total=0.0\n",
    "    Q=X.shape[0]\n",
    "    for i in range(Q):\n",
    "        yh=hypo(X[i],theta)\n",
    "        total+=(yh-y[i])**2\n",
    "        \n",
    "    return total/Q\n",
    "    \n",
    "def gradientdesc(X,y,lr=2*0.1,iters=900):\n",
    "    theta=np.zeros((2,))\n",
    "    errors=[]\n",
    "    for i in range(iters):\n",
    "        e=error(X,y,theta)\n",
    "        errors.append(e)\n",
    "        grad=gradient(X,y,theta)\n",
    "        theta[0]=theta[0]-lr*grad[0]\n",
    "        theta[1]=theta[1]-lr*grad[1]\n",
    "    return theta,errors"
   ]
  },
  {
   "cell_type": "code",
   "execution_count": 249,
   "metadata": {},
   "outputs": [],
   "source": [
    "theta,errors=gradientdesc(X,y)"
   ]
  },
  {
   "cell_type": "code",
   "execution_count": 250,
   "metadata": {},
   "outputs": [
    {
     "data": {
      "text/plain": [
       "array([ 0.68386897, 79.90573693])"
      ]
     },
     "execution_count": 250,
     "metadata": {},
     "output_type": "execute_result"
    }
   ],
   "source": [
    "theta"
   ]
  },
  {
   "cell_type": "code",
   "execution_count": null,
   "metadata": {},
   "outputs": [],
   "source": []
  },
  {
   "cell_type": "code",
   "execution_count": 220,
   "metadata": {},
   "outputs": [
    {
     "data": {
      "text/plain": [
       "[<matplotlib.lines.Line2D at 0x159dd61f048>]"
      ]
     },
     "execution_count": 220,
     "metadata": {},
     "output_type": "execute_result"
    },
    {
     "data": {
      "image/png": "[encoded data removed]",
      "text/plain": [
       "<Figure size 432x288 with 1 Axes>"
      ]
     },
     "metadata": {
      "needs_background": "light"
     },
     "output_type": "display_data"
    }
   ],
   "source": [
    "plt.plot(errors)"
   ]
  },
  {
   "cell_type": "code",
   "execution_count": null,
   "metadata": {},
   "outputs": [],
   "source": []
  },
  {
   "cell_type": "code",
   "execution_count": 221,
   "metadata": {},
   "outputs": [],
   "source": [
    "p=theta[0]+X*theta[1]"
   ]
  },
  {
   "cell_type": "code",
   "execution_count": 222,
   "metadata": {},
   "outputs": [],
   "source": [
    "def r2(y,y_):\n",
    "    num=np.sum((y_-y)**2)\n",
    "    den=np.sum((y-np.mean(y_))**2)\n",
    "    sum=1-num/den\n",
    "    return sum*100"
   ]
  },
  {
   "cell_type": "code",
   "execution_count": 223,
   "metadata": {},
   "outputs": [
    {
     "name": "stdout",
     "output_type": "stream",
     "text": [
      "95.38828160602712\n"
     ]
    }
   ],
   "source": [
    "print(r2(y,hypo(X,theta)))"
   ]
  },
  {
   "cell_type": "code",
   "execution_count": 152,
   "metadata": {},
   "outputs": [],
   "source": [
    "x_test=pd.read_csv('C:/Users/verma/Desktop/youtube/practice/data/Linear_X_Test.csv')\n",
    "y_test=hypo(x_test,theta)\n",
    "y_test\n",
    "df=pd.DataFrame(data=y_test,columns=[\"x\"])\n",
    "df=df.rename(columns={'x': 'y'})\n",
    "df.to_csv(\"y_predictions3.csv\",index=False)\n"
   ]
  },
  {
   "cell_type": "code",
   "execution_count": null,
   "metadata": {},
   "outputs": [],
   "source": []
  }
 ],
 "metadata": {
  "kernelspec": {
   "display_name": "Python 3",
   "language": "python",
   "name": "python3"
  },
  "language_info": {
   "codemirror_mode": {
    "name": "ipython",
    "version": 3
   },
   "file_extension": ".py",
   "mimetype": "text/x-python",
   "name": "python",
   "nbconvert_exporter": "python",
   "pygments_lexer": "ipython3",
   "version": "3.7.6"
  }
 },
 "nbformat": 4,
 "nbformat_minor": 4
}
