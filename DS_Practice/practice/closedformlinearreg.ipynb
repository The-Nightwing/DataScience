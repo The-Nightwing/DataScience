{
 "cells": [
  {
   "cell_type": "code",
   "execution_count": 2,
   "metadata": {},
   "outputs": [],
   "source": [
    "import pandas as pd\n",
    "import numpy as np\n",
    "import matplotlib.pyplot as plt\n",
    "\n",
    "\n",
    "from sklearn.datasets import make_regression\n",
    "from sklearn.linear_model import LinearRegression\n",
    "\n",
    "X, y = make_regression(n_features=5, noise=15, bias=10, random_state=1)\n",
    "\n",
    "class CustomLinearReg:\n",
    "\n",
    "    def fit(self, X, y):\n",
    "        ones = np.ones((X.shape[0], 1))\n",
    "        X = np.hstack([ones, X])\n",
    "        ya = y.reshape(-1, 1)\n",
    "        \n",
    "        first = np.linalg.inv(np.dot(X.T, X))\n",
    "        second = np.dot(X.T, ya)\n",
    "        \n",
    "        self.theta_ = np.dot(first, second)\n",
    "\n",
    "\n",
    "    def hypo(self, X):\n",
    "        return np.dot(X, self.theta_)\n",
    "    \n",
    "    def predict(self, X):\n",
    "        X = np.hstack([np.ones((X.shape[0], 1)), X])\n",
    "        return self.hypo(X).flatten()\n",
    "\n",
    "model = CustomLinearReg()\n",
    "model.fit(X, y)"
   ]
  },
  {
   "cell_type": "code",
   "execution_count": null,
   "metadata": {},
   "outputs": [],
   "source": []
  },
  {
   "cell_type": "code",
   "execution_count": null,
   "metadata": {},
   "outputs": [],
   "source": []
  }
 ],
 "metadata": {
  "kernelspec": {
   "display_name": "Python 3",
   "language": "python",
   "name": "python3"
  },
  "language_info": {
   "codemirror_mode": {
    "name": "ipython",
    "version": 3
   },
   "file_extension": ".py",
   "mimetype": "text/x-python",
   "name": "python",
   "nbconvert_exporter": "python",
   "pygments_lexer": "ipython3",
   "version": "3.7.6"
  }
 },
 "nbformat": 4,
 "nbformat_minor": 4
}
