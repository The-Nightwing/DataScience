{
 "cells": [
  {
   "cell_type": "code",
   "execution_count": 1,
   "metadata": {},
   "outputs": [],
   "source": [
    "from bs4 import BeautifulSoup\n",
    "import requests"
   ]
  },
  {
   "cell_type": "code",
   "execution_count": 2,
   "metadata": {},
   "outputs": [],
   "source": [
    "url=r\"https://en.wikipedia.org/wiki/Android_version_history\""
   ]
  },
  {
   "cell_type": "code",
   "execution_count": 3,
   "metadata": {},
   "outputs": [],
   "source": [
    "result=requests.get(url)"
   ]
  },
  {
   "cell_type": "raw",
   "metadata": {},
   "source": [
    "soup=BeautifulSoup(result.text,\"html.parser\")"
   ]
  },
  {
   "cell_type": "code",
   "execution_count": 10,
   "metadata": {},
   "outputs": [],
   "source": [
    "table=soup.find_all(\"table\",{'class':'wikitable'})"
   ]
  },
  {
   "cell_type": "code",
   "execution_count": 27,
   "metadata": {},
   "outputs": [],
   "source": [
    "new_table=table[0]"
   ]
  },
  {
   "cell_type": "code",
   "execution_count": 131,
   "metadata": {},
   "outputs": [],
   "source": [
    "columns=new_table.find_all('th')"
   ]
  },
  {
   "cell_type": "code",
   "execution_count": 132,
   "metadata": {},
   "outputs": [],
   "source": [
    "li=list()\n",
    "for ct in columns:\n",
    "    li.append(ct.text[:-1])"
   ]
  },
  {
   "cell_type": "code",
   "execution_count": 133,
   "metadata": {},
   "outputs": [],
   "source": [
    "rows=new_table.find_all('tr')[1:]"
   ]
  },
  {
   "cell_type": "code",
   "execution_count": 215,
   "metadata": {},
   "outputs": [],
   "source": [
    "set2=[]\n",
    "for row in rows:\n",
    "    set1=[]\n",
    "    row1=row.find_all('td')\n",
    "    for index,start in enumerate(row1):\n",
    "        set1.append(start.text[:-1])\n",
    "    set2.append(set1)\n",
    "    "
   ]
  },
  {
   "cell_type": "code",
   "execution_count": 244,
   "metadata": {},
   "outputs": [
    {
     "data": {
      "text/plain": [
       "[['No codename', '1.0', 'September 23, 2008', '1', '[9]'],\n",
       " ['No codename', 'No codename', '1.1', 'February 9, 2009', '2', '[9][11]'],\n",
       " ['Cupcake', '1.5', 'April 27, 2009', '3', ''],\n",
       " ['Donut', '1.6', 'September 15, 2009', '4', '[12]'],\n",
       " ['Eclair', '2.0 – 2.1', 'October 26, 2009', '5 – 7', '[13]'],\n",
       " ['Froyo', '2.2 – 2.2.3', 'May 20, 2010', '8', '[14]'],\n",
       " ['Gingerbread', '2.3 – 2.3.7', 'December 6, 2010', '9 – 10', '[15]'],\n",
       " ['Honeycomb', '3.0 – 3.2.6', 'February 22, 2011', '11 – 13', '[16]'],\n",
       " ['Ice Cream Sandwich', '4.0 – 4.0.4', 'October 18, 2011', '14 – 15', '[17]'],\n",
       " ['Jelly Bean', '4.1 – 4.3.1', 'July 9, 2012', '16 – 18', '[18]'],\n",
       " ['KitKat', '4.4 – 4.4.4', 'October 31, 2013', '19 – 20', '[19]'],\n",
       " ['Lollipop', '5.0 – 5.1.1', 'November 12, 2014', '21 – 22', '[20]'],\n",
       " ['Marshmallow', '6.0 – 6.0.1', 'October 5, 2015', '23', '[21]'],\n",
       " ['Nougat', '7.0 – 7.1.2', 'August 22, 2016', '24 – 25', '[22][23][24][25]'],\n",
       " ['Oreo', '8.0 – 8.1', 'August 21, 2017', '26 – 27', '[26]'],\n",
       " ['Pie', '9.0', 'August 6, 2018', '28', '[27]'],\n",
       " ['Android 10', '10.0', 'September 3, 2019', '29', '[28]'],\n",
       " ['Android 11', '11.0', 'TBD', '', '']]"
      ]
     },
     "execution_count": 244,
     "metadata": {},
     "output_type": "execute_result"
    }
   ],
   "source": [
    "\n",
    "set2[1].insert(0,'No codename')\n",
    "set2"
   ]
  },
  {
   "cell_type": "code",
   "execution_count": 254,
   "metadata": {},
   "outputs": [],
   "source": [
    "\n",
    "with open(\"data3.csv\",\"w\",encoding=\"utf-8\") as file:\n",
    "    po=\"\"\n",
    "    po=\",\".join(li)\n",
    "    po+=\"\\n\"\n",
    "    file.write(po)\n",
    "    for i in set2:\n",
    "        pop=\"\"\n",
    "        pop=\",\".join(i)\n",
    "        pop+=\"\\n\"\n",
    "        file.write(pop)"
   ]
  },
  {
   "cell_type": "code",
   "execution_count": null,
   "metadata": {},
   "outputs": [],
   "source": []
  },
  {
   "cell_type": "code",
   "execution_count": null,
   "metadata": {},
   "outputs": [],
   "source": []
  },
  {
   "cell_type": "code",
   "execution_count": null,
   "metadata": {},
   "outputs": [],
   "source": []
  }
 ],
 "metadata": {
  "kernelspec": {
   "display_name": "Python 3",
   "language": "python",
   "name": "python3"
  },
  "language_info": {
   "codemirror_mode": {
    "name": "ipython",
    "version": 3
   },
   "file_extension": ".py",
   "mimetype": "text/x-python",
   "name": "python",
   "nbconvert_exporter": "python",
   "pygments_lexer": "ipython3",
   "version": "3.7.6"
  }
 },
 "nbformat": 4,
 "nbformat_minor": 4
}
