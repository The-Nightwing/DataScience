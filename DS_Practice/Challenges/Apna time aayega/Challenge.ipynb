{
 "cells": [
  {
   "cell_type": "code",
   "execution_count": 45,
   "metadata": {},
   "outputs": [],
   "source": [
    "import random"
   ]
  },
  {
   "cell_type": "code",
   "execution_count": 46,
   "metadata": {},
   "outputs": [],
   "source": [
    "def GenerateText(text,k=4): #4 character k word k lye hum next character predict krre hai\n",
    "    T={}\n",
    "    for i in range(len(text)-k):\n",
    "        X=text[i:i+k]\n",
    "        y=text[i+k]\n",
    "        \n",
    "        if T.get(X) is None:\n",
    "            T[X]={}\n",
    "            T[X][y]=1\n",
    "        else:\n",
    "            if T[X].get(y) is None:\n",
    "                T[X][y]=1\n",
    "            else: \n",
    "                T[X][y]+=1 #if same character occurs again increment by 1.\n",
    "\n",
    "        #print(\"X is %s, Y is %s\"%(X,y))\n",
    "    return T"
   ]
  },
  {
   "cell_type": "code",
   "execution_count": 47,
   "metadata": {},
   "outputs": [],
   "source": [
    "def Probability(T):\n",
    "    for ix in T.keys():\n",
    "        s=float(sum(T[ix].values()))\n",
    "        for kx in T[ix].keys():\n",
    "            T[ix][kx]=T[ix][kx]/s\n",
    "    return T"
   ]
  },
  {
   "cell_type": "code",
   "execution_count": 48,
   "metadata": {},
   "outputs": [],
   "source": [
    "def TrainText(text):\n",
    "    T=GenerateText(text)\n",
    "    T=Probability(T)\n",
    "    \n",
    "    return T"
   ]
  },
  {
   "cell_type": "code",
   "execution_count": 59,
   "metadata": {},
   "outputs": [],
   "source": [
    "import numpy as np\n",
    "def sample_next(ctx,T,k):\n",
    "    \n",
    "    ctx=ctx[-k:]\n",
    "    if T.get(ctx) is None: #if the given word is not in the dictionary\n",
    "        return \" \"\n",
    "    possible_char=list(T[ctx].keys())\n",
    "    possible_values=list(T[ctx].values())\n",
    "    \n",
    "    return np.random.choice(possible_char,p=possible_values)"
   ]
  },
  {
   "cell_type": "code",
   "execution_count": 60,
   "metadata": {},
   "outputs": [],
   "source": [
    "text=\"\"\"Apna Time Aayega\n",
    "Uth ja apni raakh se\n",
    "Tu udd ja ab talaash mein\n",
    "Parwaaz dekh parwane ki\n",
    "Aasman bhi sar uthayega\n",
    "Aayega apna time aayega\n",
    "Mere jaisa shaana lala\n",
    "Tujhe na mil payega\n",
    " \n",
    "Yeh shabdon ka jwala\n",
    "Meri bediyan pighlayega\n",
    "Jitna toone boya hai tu\n",
    "Utna hi to khaayega\n",
    "Aisa mera khwaab hai\n",
    "Jo darr ko bhi satayega\n",
    "Zinda mera khwaab\n",
    "Ab kaise tu dafnayega\n",
    " \n",
    "Ab hausle se jeene de\n",
    "Ab khauf nahi hai seene mein\n",
    "Har raaste ko cheerenge\n",
    "Hum kaamyabi chheenenge\n",
    "Sab kuchh mila paseene se\n",
    "Matlab bana ab jeene mein\n",
    " \n",
    "Kyon\n",
    "Kyon ki apna time aayega\n",
    " \n",
    "Tu nanga hi to aaya hai\n",
    "Kya ghanta lekar jaayega\n",
    "Apna time aayega\n",
    "Apna time aayega\n",
    "Apna time aayega x (2)\n",
    " \n",
    "Tu nanga hi to aaya hai\n",
    "Kya ghanta lekar..\n",
    " \n",
    "Kissi ka hath nahi tha sar par\n",
    "Yahaan par aaya khud ki mehnat se main\n",
    "Jitni taakat kismat mein nahi\n",
    "Utni rehmat mein hai\n",
    "Phir bhi ladka sehmat nahin hai\n",
    "Kyon ki hairat nahi hai\n",
    "Zaroorat yahaan marzi ki\n",
    "Aur jurrat ki hai\n",
    " \n",
    "Taakat ki hai, aafat ki\n",
    "Himaakat ki, ibaadat ki\n",
    "Adalat yeh hai chahat ki\n",
    "Mohobbat ki, amaanat ki\n",
    "Jeetne ki ab aadat ki hai\n",
    "Shohrat ki ab laalach nai hai\n",
    "Tere bhai jaisa koyi hard’ch nai hai\n",
    " \n",
    "Iss harkat ne hi barkat di hai\n",
    "Kyon?\n",
    " \n",
    "Tu nanga hi to aaya hai\n",
    "Kya ghanta lekar jaayega\n",
    "Apna time aayega\n",
    "Apna time aayega\n",
    "Apna time aayega\n",
    " \n",
    "Tu nanga hi to aaya hai\n",
    "Kya ghanta lekar jaayega\n",
    "Kya tu ghanta lekar jaayega\n",
    "Apna time aayega\n",
    "Apna time aayega\"\"\""
   ]
  },
  {
   "cell_type": "code",
   "execution_count": 61,
   "metadata": {},
   "outputs": [],
   "source": [
    "model=TrainText(text)"
   ]
  },
  {
   "cell_type": "code",
   "execution_count": 62,
   "metadata": {},
   "outputs": [],
   "source": [
    "def text_prediction(starting_sen,model,k=4,iters=2000): #starting_sen hum ek word pass krenge aur uske next wala character generate krenge\n",
    "    sentence=starting_sen\n",
    "    ctx=starting_sen[-k:] #take only last k chars, as we have trained the model for predticting new char on basis of 4 chars read already.\n",
    "    for i in range(iters):\n",
    "        next_char=sample_next(ctx,model,k)\n",
    "        sentence+=next_char\n",
    "        ctx=sentence[-k:] #update ctx, as now we have a new character, like first it was ctx=lolop(k=4,olop), now it is ctx=lolopq(k=4,lopq)\n",
    "        #prediction of lopq will be done in the next iteration and as follows\n",
    "    return sentence"
   ]
  },
  {
   "cell_type": "code",
   "execution_count": 63,
   "metadata": {},
   "outputs": [
    {
     "data": {
      "text/plain": [
       "'apna time aayega\\nAisa shaana lala\\nTujhe na mil payega\\nAisa shaana lala\\nTujhe na mil payega\\nAisa shaana lala\\nTujhe na mil payega\\nAisa shaana lala\\nTujhe na mil payega\\nAisa shaana lala\\nTujhe na mil payega\\nAisa shaana lala\\nTujhe na mil payega\\nAisa shaana lala\\nTujhe na mil payega\\nAisa shaana lala\\nTujhe na mil payega\\nAisa shaana lala\\nTujhe na mil payega\\nAisa shaana lala\\nTujhe na mil payega\\nAisa shaana lala\\nTujhe na mil payega\\nAisa shaana lala\\nTujhe na mil payega\\nAisa shaana lala\\nTujhe na mil payega\\nAisa shaana lala\\nTujhe na mil payega\\nAisa shaana lala\\nTujhe na mil payega\\nAisa shaana lala\\nTujhe na mil payega\\nAisa shaana lala\\nTujhe na mil payega\\nAisa shaana lala\\nTujhe na mil payega\\nAisa shaana lala\\nTujhe na mil payega\\nAisa shaana lala\\nTujhe na mil payega\\nAisa shaana lala\\nTujhe na mil payega\\nAisa shaana lala\\nTujhe na mil payega\\nAisa shaana lala\\nTujhe na mil payega\\nAisa shaana lala\\nTujhe na mil payega\\nAisa shaana lala\\nTujhe na mil payega\\nAisa shaana lala\\nTujhe na mil payega\\nAisa shaana lala\\nTujhe na mil payega\\nAisa shaana lala\\nTujhe na mil payega\\nAisa shaana lala\\nTujhe na mil payega\\nAisa shaana lala\\nTujhe na mil payega\\nAisa shaana lala\\nTujhe na mil payega\\nAisa shaana lala\\nTujhe na mil payega\\nAisa shaana lala\\nTujhe na mil payega\\nAisa shaana lala\\nTujhe na mil payega\\nAisa shaana lala\\nTujhe na mil payega\\nAisa shaana lala\\nTujhe na mil payega\\nAisa shaana lala\\nTujhe na mil payega\\nAisa shaana lala\\nTujhe na mil payega\\nAisa shaana lala\\nTujhe na mil payega\\nAisa shaana lala\\nTujhe na mil payega\\nAisa shaana lala\\nTujhe na mil payega\\nAisa shaana lala\\nTujhe na mil payega\\nAisa shaana lala\\nTujhe na mil payega\\nAisa shaana lala\\nTujhe na mil payega\\nAisa shaana lala\\nTujhe na mil payega\\nAisa shaana lala\\nTujhe na mil payega\\nAisa shaana lala\\nTujhe na mil payega\\nAisa shaana lala\\nTujhe na mil payega\\nAisa shaana lala\\nTujhe na mil payega\\nAisa shaana lala\\nTujhe na mil payega\\nAisa shaana lala\\nTujhe na mil payega\\nAisa shaana lala\\nTujhe na mil payega\\nAisa shaana lala\\nTujhe na mil payega\\nAisa shaana lala\\nTujhe na '"
      ]
     },
     "execution_count": 63,
     "metadata": {},
     "output_type": "execute_result"
    }
   ],
   "source": [
    "text_prediction(\"apna\",model)"
   ]
  },
  {
   "cell_type": "code",
   "execution_count": 64,
   "metadata": {},
   "outputs": [
    {
     "data": {
      "text/plain": [
       "\u001b[1;31mDocstring:\u001b[0m\n",
       "choice(a, size=None, replace=True, p=None)\n",
       "\n",
       "Generates a random sample from a given 1-D array\n",
       "\n",
       "        .. versionadded:: 1.7.0\n",
       "\n",
       ".. note::\n",
       "    New code should use the ``choice`` method of a ``default_rng()``\n",
       "    instance instead; see `random-quick-start`.\n",
       "\n",
       "Parameters\n",
       "----------\n",
       "a : 1-D array-like or int\n",
       "    If an ndarray, a random sample is generated from its elements.\n",
       "    If an int, the random sample is generated as if a were np.arange(a)\n",
       "size : int or tuple of ints, optional\n",
       "    Output shape.  If the given shape is, e.g., ``(m, n, k)``, then\n",
       "    ``m * n * k`` samples are drawn.  Default is None, in which case a\n",
       "    single value is returned.\n",
       "replace : boolean, optional\n",
       "    Whether the sample is with or without replacement\n",
       "p : 1-D array-like, optional\n",
       "    The probabilities associated with each entry in a.\n",
       "    If not given the sample assumes a uniform distribution over all\n",
       "    entries in a.\n",
       "\n",
       "Returns\n",
       "-------\n",
       "samples : single item or ndarray\n",
       "    The generated random samples\n",
       "\n",
       "Raises\n",
       "------\n",
       "ValueError\n",
       "    If a is an int and less than zero, if a or p are not 1-dimensional,\n",
       "    if a is an array-like of size 0, if p is not a vector of\n",
       "    probabilities, if a and p have different lengths, or if\n",
       "    replace=False and the sample size is greater than the population\n",
       "    size\n",
       "\n",
       "See Also\n",
       "--------\n",
       "randint, shuffle, permutation\n",
       "Generator.choice: which should be used in new code\n",
       "\n",
       "Examples\n",
       "--------\n",
       "Generate a uniform random sample from np.arange(5) of size 3:\n",
       "\n",
       ">>> np.random.choice(5, 3)\n",
       "array([0, 3, 4]) # random\n",
       ">>> #This is equivalent to np.random.randint(0,5,3)\n",
       "\n",
       "Generate a non-uniform random sample from np.arange(5) of size 3:\n",
       "\n",
       ">>> np.random.choice(5, 3, p=[0.1, 0, 0.3, 0.6, 0])\n",
       "array([3, 3, 0]) # random\n",
       "\n",
       "Generate a uniform random sample from np.arange(5) of size 3 without\n",
       "replacement:\n",
       "\n",
       ">>> np.random.choice(5, 3, replace=False)\n",
       "array([3,1,0]) # random\n",
       ">>> #This is equivalent to np.random.permutation(np.arange(5))[:3]\n",
       "\n",
       "Generate a non-uniform random sample from np.arange(5) of size\n",
       "3 without replacement:\n",
       "\n",
       ">>> np.random.choice(5, 3, replace=False, p=[0.1, 0, 0.3, 0.6, 0])\n",
       "array([2, 3, 0]) # random\n",
       "\n",
       "Any of the above can be repeated with an arbitrary array-like\n",
       "instead of just integers. For instance:\n",
       "\n",
       ">>> aa_milne_arr = ['pooh', 'rabbit', 'piglet', 'Christopher']\n",
       ">>> np.random.choice(aa_milne_arr, 5, p=[0.5, 0.1, 0.1, 0.3])\n",
       "array(['pooh', 'pooh', 'pooh', 'Christopher', 'piglet'], # random\n",
       "      dtype='<U11')\n",
       "\u001b[1;31mType:\u001b[0m      builtin_function_or_method\n"
      ]
     },
     "metadata": {},
     "output_type": "display_data"
    }
   ],
   "source": [
    "np.random.choice?"
   ]
  },
  {
   "cell_type": "code",
   "execution_count": null,
   "metadata": {},
   "outputs": [],
   "source": []
  }
 ],
 "metadata": {
  "kernelspec": {
   "display_name": "Python 3",
   "language": "python",
   "name": "python3"
  },
  "language_info": {
   "codemirror_mode": {
    "name": "ipython",
    "version": 3
   },
   "file_extension": ".py",
   "mimetype": "text/x-python",
   "name": "python",
   "nbconvert_exporter": "python",
   "pygments_lexer": "ipython3",
   "version": "3.7.6"
  }
 },
 "nbformat": 4,
 "nbformat_minor": 4
}
