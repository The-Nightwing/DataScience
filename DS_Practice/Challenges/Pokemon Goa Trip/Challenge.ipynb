{
 "cells": [
  {
   "cell_type": "code",
   "execution_count": 1,
   "metadata": {},
   "outputs": [
    {
     "name": "stderr",
     "output_type": "stream",
     "text": [
      "Using TensorFlow backend.\n"
     ]
    }
   ],
   "source": [
    "import numpy as np\n",
    "import matplotlib.pyplot as plt\n",
    "import cv2\n",
    "import pandas as pd\n",
    "from pathlib import Path\n",
    "from tensorflow.keras.preprocessing import image\n",
    "from tensorflow.keras.models import Sequential\n",
    "from tensorflow.keras.layers import Input,Convolution2D,MaxPooling2D,Flatten,Dense,Dropout\n",
    "from keras.utils import np_utils\n",
    "from tensorflow.keras.models import Model"
   ]
  },
  {
   "cell_type": "code",
   "execution_count": 2,
   "metadata": {},
   "outputs": [],
   "source": [
    "f=pd.read_csv(\"train.csv\")\n",
    "images=[]"
   ]
  },
  {
   "cell_type": "code",
   "execution_count": 3,
   "metadata": {},
   "outputs": [
    {
     "name": "stdout",
     "output_type": "stream",
     "text": [
      "(304, 3)\n"
     ]
    }
   ],
   "source": [
    "X_=f[\"ImageId\"].values\n",
    "y=f[\"NameOfPokemon\"].values\n",
    "pokemon_dict={\"Pikachu\":0,\"Charmander\":1,\"Bulbasaur\":2}\n",
    "ls=[pokemon_dict[name] for name in y]\n",
    "y=np_utils.to_categorical(ls,num_classes=3)\n",
    "print(y.shape)"
   ]
  },
  {
   "cell_type": "code",
   "execution_count": 4,
   "metadata": {},
   "outputs": [
    {
     "name": "stderr",
     "output_type": "stream",
     "text": [
      "C:\\Users\\verma\\anaconda3\\lib\\site-packages\\PIL\\Image.py:932: UserWarning: Palette images with Transparency expressed in bytes should be converted to RGBA images\n",
      "  \"Palette images with Transparency expressed in bytes should be \"\n"
     ]
    }
   ],
   "source": [
    "p=Path(\"./Images/\")\n",
    "\n",
    "dirs=p.glob(\"*.jpg\")\n",
    "cnt=0\n",
    "for d in dirs:\n",
    "    img=image.load_img(d,target_size=(80,80))\n",
    "    img_arr=image.img_to_array(img,dtype='uint8')\n",
    "    img_arr=img_arr/255.0\n",
    "    images.append(img_arr)"
   ]
  },
  {
   "cell_type": "code",
   "execution_count": 5,
   "metadata": {},
   "outputs": [
    {
     "name": "stdout",
     "output_type": "stream",
     "text": [
      "0\n",
      "(304, 80, 80, 3)\n"
     ]
    }
   ],
   "source": [
    "print(cnt)\n",
    "X=np.array(images)\n",
    "print(X.shape)"
   ]
  },
  {
   "cell_type": "code",
   "execution_count": 6,
   "metadata": {},
   "outputs": [
    {
     "data": {
      "image/png": "[encoded data removed]",
      "text/plain": [
       "<Figure size 432x288 with 1 Axes>"
      ]
     },
     "metadata": {
      "needs_background": "light"
     },
     "output_type": "display_data"
    },
    {
     "data": {
      "text/plain": [
       "array([[[0., 0., 0.],\n",
       "        [0., 0., 0.],\n",
       "        [0., 0., 0.],\n",
       "        ...,\n",
       "        [0., 0., 0.],\n",
       "        [0., 0., 0.],\n",
       "        [0., 0., 0.]],\n",
       "\n",
       "       [[0., 0., 0.],\n",
       "        [0., 0., 0.],\n",
       "        [0., 0., 0.],\n",
       "        ...,\n",
       "        [0., 0., 0.],\n",
       "        [0., 0., 0.],\n",
       "        [0., 0., 0.]],\n",
       "\n",
       "       [[0., 0., 0.],\n",
       "        [0., 0., 0.],\n",
       "        [0., 0., 0.],\n",
       "        ...,\n",
       "        [0., 0., 0.],\n",
       "        [0., 0., 0.],\n",
       "        [0., 0., 0.]],\n",
       "\n",
       "       ...,\n",
       "\n",
       "       [[0., 0., 0.],\n",
       "        [0., 0., 0.],\n",
       "        [0., 0., 0.],\n",
       "        ...,\n",
       "        [0., 0., 0.],\n",
       "        [0., 0., 0.],\n",
       "        [0., 0., 0.]],\n",
       "\n",
       "       [[0., 0., 0.],\n",
       "        [0., 0., 0.],\n",
       "        [0., 0., 0.],\n",
       "        ...,\n",
       "        [0., 0., 0.],\n",
       "        [0., 0., 0.],\n",
       "        [0., 0., 0.]],\n",
       "\n",
       "       [[0., 0., 0.],\n",
       "        [0., 0., 0.],\n",
       "        [0., 0., 0.],\n",
       "        ...,\n",
       "        [0., 0., 0.],\n",
       "        [0., 0., 0.],\n",
       "        [0., 0., 0.]]])"
      ]
     },
     "execution_count": 6,
     "metadata": {},
     "output_type": "execute_result"
    }
   ],
   "source": [
    "plt.imshow(X[22],cmap=\"gray\")\n",
    "plt.show()\n",
    "X[110]"
   ]
  },
  {
   "cell_type": "code",
   "execution_count": 7,
   "metadata": {},
   "outputs": [],
   "source": [
    "#Model"
   ]
  },
  {
   "cell_type": "code",
   "execution_count": 150,
   "metadata": {},
   "outputs": [],
   "source": [
    "model=Sequential()\n",
    "model.add(Convolution2D(100,(3,3),activation=\"relu\",input_shape=(80,80,3)))\n",
    "model.add(Convolution2D(50,(3,3),activation=\"relu\"))\n",
    "model.add(Dropout(0.25))\n",
    "model.add(MaxPooling2D(2,2))\n",
    "model.add(Convolution2D(100,(3,3),activation=\"relu\"))\n",
    "model.add(Convolution2D(50,(3,3),activation=\"relu\"))\n",
    "model.add(Dropout(0.15))\n",
    "model.add(MaxPooling2D(2,2))\n",
    "model.add(Convolution2D(100,(3,3),activation=\"relu\"))\n",
    "model.add(Convolution2D(50,(3,3),activation=\"relu\"))\n",
    "model.add(Dropout(0.15))\n",
    "model.add(Flatten())\n",
    "model.add(Dense(3,activation=\"softmax\"))  #Units depends on the shape of Y(here it is (304,3))"
   ]
  },
  {
   "cell_type": "code",
   "execution_count": 151,
   "metadata": {},
   "outputs": [
    {
     "name": "stdout",
     "output_type": "stream",
     "text": [
      "Model: \"sequential_19\"\n",
      "_________________________________________________________________\n",
      "Layer (type)                 Output Shape              Param #   \n",
      "=================================================================\n",
      "conv2d_114 (Conv2D)          (None, 78, 78, 100)       2800      \n",
      "_________________________________________________________________\n",
      "conv2d_115 (Conv2D)          (None, 76, 76, 50)        45050     \n",
      "_________________________________________________________________\n",
      "dropout_39 (Dropout)         (None, 76, 76, 50)        0         \n",
      "_________________________________________________________________\n",
      "max_pooling2d_38 (MaxPooling (None, 38, 38, 50)        0         \n",
      "_________________________________________________________________\n",
      "conv2d_116 (Conv2D)          (None, 36, 36, 100)       45100     \n",
      "_________________________________________________________________\n",
      "conv2d_117 (Conv2D)          (None, 34, 34, 50)        45050     \n",
      "_________________________________________________________________\n",
      "dropout_40 (Dropout)         (None, 34, 34, 50)        0         \n",
      "_________________________________________________________________\n",
      "max_pooling2d_39 (MaxPooling (None, 17, 17, 50)        0         \n",
      "_________________________________________________________________\n",
      "conv2d_118 (Conv2D)          (None, 15, 15, 100)       45100     \n",
      "_________________________________________________________________\n",
      "conv2d_119 (Conv2D)          (None, 13, 13, 50)        45050     \n",
      "_________________________________________________________________\n",
      "dropout_41 (Dropout)         (None, 13, 13, 50)        0         \n",
      "_________________________________________________________________\n",
      "flatten_19 (Flatten)         (None, 8450)              0         \n",
      "_________________________________________________________________\n",
      "dense_19 (Dense)             (None, 3)                 25353     \n",
      "=================================================================\n",
      "Total params: 253,503\n",
      "Trainable params: 253,503\n",
      "Non-trainable params: 0\n",
      "_________________________________________________________________\n"
     ]
    }
   ],
   "source": [
    "model.summary()"
   ]
  },
  {
   "cell_type": "code",
   "execution_count": 152,
   "metadata": {},
   "outputs": [],
   "source": [
    "model.compile(optimizer=\"adam\",loss=\"categorical_crossentropy\",metrics=[\"accuracy\"])"
   ]
  },
  {
   "cell_type": "code",
   "execution_count": 153,
   "metadata": {},
   "outputs": [
    {
     "name": "stdout",
     "output_type": "stream",
     "text": [
      "Epoch 1/10\n",
      "7/7 [==============================] - 7s 1s/step - loss: 1.0780 - accuracy: 0.4211\n",
      "Epoch 2/10\n",
      "7/7 [==============================] - 11s 2s/step - loss: 0.6910 - accuracy: 0.7237\n",
      "Epoch 3/10\n",
      "7/7 [==============================] - 18s 3s/step - loss: 0.4958 - accuracy: 0.7664\n",
      "Epoch 4/10\n",
      "7/7 [==============================] - 19s 3s/step - loss: 0.2796 - accuracy: 0.8980\n",
      "Epoch 5/10\n",
      "7/7 [==============================] - 15s 2s/step - loss: 0.4229 - accuracy: 0.8487\n",
      "Epoch 6/10\n",
      "7/7 [==============================] - 12s 2s/step - loss: 0.3045 - accuracy: 0.8750\n",
      "Epoch 7/10\n",
      "7/7 [==============================] - 11s 2s/step - loss: 0.1812 - accuracy: 0.9276\n",
      "Epoch 8/10\n",
      "7/7 [==============================] - 11s 2s/step - loss: 0.1314 - accuracy: 0.9572\n",
      "Epoch 9/10\n",
      "7/7 [==============================] - 11s 2s/step - loss: 0.1060 - accuracy: 0.9671\n",
      "Epoch 10/10\n",
      "7/7 [==============================] - 11s 2s/step - loss: 0.1010 - accuracy: 0.9605\n"
     ]
    },
    {
     "data": {
      "text/plain": [
       "<tensorflow.python.keras.callbacks.History at 0x1c113f59388>"
      ]
     },
     "execution_count": 153,
     "metadata": {},
     "output_type": "execute_result"
    }
   ],
   "source": [
    "model.fit(X,y,epochs=10,batch_size=50)"
   ]
  },
  {
   "cell_type": "code",
   "execution_count": 154,
   "metadata": {},
   "outputs": [
    {
     "name": "stdout",
     "output_type": "stream",
     "text": [
      "10/10 [==============================] - 2s 216ms/step - loss: 0.1008 - accuracy: 0.9704\n"
     ]
    },
    {
     "data": {
      "text/plain": [
       "[0.10082227736711502, 0.9703947305679321]"
      ]
     },
     "execution_count": 154,
     "metadata": {},
     "output_type": "execute_result"
    }
   ],
   "source": [
    "model.evaluate(X,y)"
   ]
  },
  {
   "cell_type": "code",
   "execution_count": 155,
   "metadata": {},
   "outputs": [],
   "source": [
    "test=pd.read_csv(\"./test.csv\")"
   ]
  },
  {
   "cell_type": "code",
   "execution_count": 156,
   "metadata": {},
   "outputs": [],
   "source": [
    "X__=test['ImageId'].values"
   ]
  },
  {
   "cell_type": "code",
   "execution_count": 157,
   "metadata": {},
   "outputs": [],
   "source": [
    "images_data = []\n",
    "for img in X__:\n",
    "    image = cv2.imread(\"Images_test/\"+img)\n",
    "    image = cv2.cvtColor(image,cv2.COLOR_BGR2RGB)\n",
    "    image  = cv2.resize(image,(80,80))\n",
    "    image=image/255.0\n",
    "    images_data.append(image)"
   ]
  },
  {
   "cell_type": "code",
   "execution_count": 158,
   "metadata": {},
   "outputs": [
    {
     "name": "stdout",
     "output_type": "stream",
     "text": [
      "(123, 80, 80, 3)\n"
     ]
    }
   ],
   "source": [
    "X_test=np.array(images_data)\n",
    "print(X_test.shape)"
   ]
  },
  {
   "cell_type": "code",
   "execution_count": 159,
   "metadata": {},
   "outputs": [],
   "source": [
    "test=model.predict_classes(X_test)"
   ]
  },
  {
   "cell_type": "code",
   "execution_count": 160,
   "metadata": {},
   "outputs": [
    {
     "data": {
      "text/plain": [
       "array([2, 1, 2, 1, 0, 0, 0, 2, 2, 1, 2, 2, 2, 2, 1, 0, 1, 1, 0, 1, 0, 2,\n",
       "       1, 2, 0, 1, 2, 2, 0, 0, 0, 0, 1, 2, 0, 2, 2, 2, 1, 2, 2, 1, 0, 0,\n",
       "       1, 2, 1, 2, 0, 1, 0, 1, 0, 2, 1, 2, 0, 0, 0, 1, 1, 0, 1, 2, 0, 0,\n",
       "       2, 0, 0, 2, 1, 2, 2, 0, 1, 1, 1, 1, 0, 2, 0, 2, 0, 2, 0, 2, 2, 1,\n",
       "       1, 2, 2, 1, 2, 0, 0, 1, 0, 2, 0, 1, 2, 2, 2, 0, 1, 0, 0, 0, 1, 2,\n",
       "       0, 1, 1, 0, 1, 0, 0, 0, 2, 0, 1, 2, 0], dtype=int64)"
      ]
     },
     "execution_count": 160,
     "metadata": {},
     "output_type": "execute_result"
    }
   ],
   "source": [
    "test"
   ]
  },
  {
   "cell_type": "code",
   "execution_count": 161,
   "metadata": {},
   "outputs": [],
   "source": [
    "rev_dict={0:\"Pikachu\",1:\"Charmander\",2:\"Bulbasaur\"}"
   ]
  },
  {
   "cell_type": "code",
   "execution_count": 162,
   "metadata": {},
   "outputs": [],
   "source": [
    "lst=[rev_dict[num] for num in test]"
   ]
  },
  {
   "cell_type": "code",
   "execution_count": 163,
   "metadata": {},
   "outputs": [],
   "source": [
    "df=pd.DataFrame(list(zip(X__,lst)),columns=[\"ImageId\",\"NameOfPokemon\"])"
   ]
  },
  {
   "cell_type": "code",
   "execution_count": 164,
   "metadata": {},
   "outputs": [],
   "source": [
    "df.to_csv(\"submission2.csv\",index=False)"
   ]
  },
  {
   "cell_type": "code",
   "execution_count": null,
   "metadata": {},
   "outputs": [],
   "source": []
  },
  {
   "cell_type": "code",
   "execution_count": null,
   "metadata": {},
   "outputs": [],
   "source": []
  }
 ],
 "metadata": {
  "kernelspec": {
   "display_name": "Python 3",
   "language": "python",
   "name": "python3"
  },
  "language_info": {
   "codemirror_mode": {
    "name": "ipython",
    "version": 3
   },
   "file_extension": ".py",
   "mimetype": "text/x-python",
   "name": "python",
   "nbconvert_exporter": "python",
   "pygments_lexer": "ipython3",
   "version": "3.7.6"
  }
 },
 "nbformat": 4,
 "nbformat_minor": 4
}
