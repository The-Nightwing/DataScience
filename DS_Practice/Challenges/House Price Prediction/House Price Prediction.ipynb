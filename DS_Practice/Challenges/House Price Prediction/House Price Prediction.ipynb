{
 "cells": [
  {
   "cell_type": "code",
   "execution_count": 148,
   "metadata": {},
   "outputs": [],
   "source": [
    "import numpy as np\n",
    "import matplotlib.pyplot as plt\n",
    "import pandas as pd\n",
    "from sklearn.preprocessing import LabelEncoder\n",
    "from sklearn.impute import SimpleImputer\n",
    "import seaborn as sns"
   ]
  },
  {
   "cell_type": "code",
   "execution_count": 149,
   "metadata": {},
   "outputs": [],
   "source": [
    "data=pd.read_csv('Train_Data.csv')\n",
    "data_t=pd.read_csv('Test_Data.csv')"
   ]
  },
  {
   "cell_type": "code",
   "execution_count": 150,
   "metadata": {},
   "outputs": [
    {
     "name": "stdout",
     "output_type": "stream",
     "text": [
      "<class 'pandas.core.frame.DataFrame'>\n",
      "RangeIndex: 1100 entries, 0 to 1099\n",
      "Data columns (total 81 columns):\n",
      " #   Column         Non-Null Count  Dtype  \n",
      "---  ------         --------------  -----  \n",
      " 0   Id             1100 non-null   int64  \n",
      " 1   MSSubClass     1100 non-null   int64  \n",
      " 2   MSZoning       1100 non-null   object \n",
      " 3   LotFrontage    908 non-null    float64\n",
      " 4   LotArea        1100 non-null   int64  \n",
      " 5   Street         1100 non-null   object \n",
      " 6   Alley          69 non-null     object \n",
      " 7   LotShape       1100 non-null   object \n",
      " 8   LandContour    1100 non-null   object \n",
      " 9   Utilities      1100 non-null   object \n",
      " 10  LotConfig      1100 non-null   object \n",
      " 11  LandSlope      1100 non-null   object \n",
      " 12  Neighborhood   1100 non-null   object \n",
      " 13  Condition1     1100 non-null   object \n",
      " 14  Condition2     1100 non-null   object \n",
      " 15  BldgType       1100 non-null   object \n",
      " 16  HouseStyle     1100 non-null   object \n",
      " 17  OverallQual    1100 non-null   int64  \n",
      " 18  OverallCond    1100 non-null   int64  \n",
      " 19  YearBuilt      1100 non-null   int64  \n",
      " 20  YearRemodAdd   1100 non-null   int64  \n",
      " 21  RoofStyle      1100 non-null   object \n",
      " 22  RoofMatl       1100 non-null   object \n",
      " 23  Exterior1st    1100 non-null   object \n",
      " 24  Exterior2nd    1100 non-null   object \n",
      " 25  MasVnrType     1094 non-null   object \n",
      " 26  MasVnrArea     1094 non-null   float64\n",
      " 27  ExterQual      1100 non-null   object \n",
      " 28  ExterCond      1100 non-null   object \n",
      " 29  Foundation     1100 non-null   object \n",
      " 30  BsmtQual       1069 non-null   object \n",
      " 31  BsmtCond       1069 non-null   object \n",
      " 32  BsmtExposure   1068 non-null   object \n",
      " 33  BsmtFinType1   1069 non-null   object \n",
      " 34  BsmtFinSF1     1100 non-null   int64  \n",
      " 35  BsmtFinType2   1068 non-null   object \n",
      " 36  BsmtFinSF2     1100 non-null   int64  \n",
      " 37  BsmtUnfSF      1100 non-null   int64  \n",
      " 38  TotalBsmtSF    1100 non-null   int64  \n",
      " 39  Heating        1100 non-null   object \n",
      " 40  HeatingQC      1100 non-null   object \n",
      " 41  CentralAir     1100 non-null   object \n",
      " 42  Electrical     1100 non-null   object \n",
      " 43  1stFlrSF       1100 non-null   int64  \n",
      " 44  2ndFlrSF       1100 non-null   int64  \n",
      " 45  LowQualFinSF   1100 non-null   int64  \n",
      " 46  GrLivArea      1100 non-null   int64  \n",
      " 47  BsmtFullBath   1100 non-null   int64  \n",
      " 48  BsmtHalfBath   1100 non-null   int64  \n",
      " 49  FullBath       1100 non-null   int64  \n",
      " 50  HalfBath       1100 non-null   int64  \n",
      " 51  BedroomAbvGr   1100 non-null   int64  \n",
      " 52  KitchenAbvGr   1100 non-null   int64  \n",
      " 53  KitchenQual    1100 non-null   object \n",
      " 54  TotRmsAbvGrd   1100 non-null   int64  \n",
      " 55  Functional     1100 non-null   object \n",
      " 56  Fireplaces     1100 non-null   int64  \n",
      " 57  FireplaceQu    576 non-null    object \n",
      " 58  GarageType     1039 non-null   object \n",
      " 59  GarageYrBlt    1039 non-null   float64\n",
      " 60  GarageFinish   1039 non-null   object \n",
      " 61  GarageCars     1100 non-null   int64  \n",
      " 62  GarageArea     1100 non-null   int64  \n",
      " 63  GarageQual     1039 non-null   object \n",
      " 64  GarageCond     1039 non-null   object \n",
      " 65  PavedDrive     1100 non-null   object \n",
      " 66  WoodDeckSF     1100 non-null   int64  \n",
      " 67  OpenPorchSF    1100 non-null   int64  \n",
      " 68  EnclosedPorch  1100 non-null   int64  \n",
      " 69  3SsnPorch      1100 non-null   int64  \n",
      " 70  ScreenPorch    1100 non-null   int64  \n",
      " 71  PoolArea       1100 non-null   int64  \n",
      " 72  PoolQC         2 non-null      object \n",
      " 73  Fence          208 non-null    object \n",
      " 74  MiscFeature    46 non-null     object \n",
      " 75  MiscVal        1100 non-null   int64  \n",
      " 76  MoSold         1100 non-null   int64  \n",
      " 77  YrSold         1100 non-null   int64  \n",
      " 78  SaleType       1100 non-null   object \n",
      " 79  SaleCondition  1100 non-null   object \n",
      " 80  SalePrice      1100 non-null   int64  \n",
      "dtypes: float64(3), int64(35), object(43)\n",
      "memory usage: 696.2+ KB\n"
     ]
    }
   ],
   "source": [
    "data.info()"
   ]
  },
  {
   "cell_type": "code",
   "execution_count": 107,
   "metadata": {},
   "outputs": [],
   "source": [
    "data=data.drop(['PoolQC'],axis=1)\n",
    "data_t=data_t.drop(['PoolQC'],axis=1)"
   ]
  },
  {
   "cell_type": "code",
   "execution_count": 139,
   "metadata": {},
   "outputs": [],
   "source": [
    "data['Alley']=data['Alley'].fillna(\"NA\")\n",
    "data_t['Alley']=data_t['Alley'].fillna(\"NA\")\n",
    "\n",
    "def f(x):\n",
    "    x=x.fillna(x.mean())"
   ]
  },
  {
   "cell_type": "code",
   "execution_count": 140,
   "metadata": {},
   "outputs": [
    {
     "data": {
      "text/plain": [
       "0      None\n",
       "1      None\n",
       "2      None\n",
       "3      None\n",
       "4      None\n",
       "       ... \n",
       "355    None\n",
       "356    None\n",
       "357    None\n",
       "358    None\n",
       "359    None\n",
       "Length: 360, dtype: object"
      ]
     },
     "execution_count": 140,
     "metadata": {},
     "output_type": "execute_result"
    }
   ],
   "source": [
    "categorical=data.select_dtypes([\"object\"])\n",
    "categorical_t=data_t.select_dtypes([\"object\"])\n",
    "numerical=data.select_dtypes([\"int64\",\"float64\"])\n",
    "numerical_t=data_t.select_dtypes([\"int64\",\"float64\"])\n",
    "\n",
    "\n",
    "numerical.apply(f,axis=1)\n",
    "numerical_t.apply(f,axis=1)"
   ]
  },
  {
   "cell_type": "code",
   "execution_count": null,
   "metadata": {},
   "outputs": [],
   "source": []
  },
  {
   "cell_type": "code",
   "execution_count": 147,
   "metadata": {},
   "outputs": [
    {
     "name": "stderr",
     "output_type": "stream",
     "text": [
      "C:\\Users\\verma\\anaconda3\\lib\\site-packages\\ipykernel_launcher.py:1: SettingWithCopyWarning: \n",
      "A value is trying to be set on a copy of a slice from a DataFrame.\n",
      "Try using .loc[row_indexer,col_indexer] = value instead\n",
      "\n",
      "See the caveats in the documentation: https://pandas.pydata.org/pandas-docs/stable/user_guide/indexing.html#returning-a-view-versus-a-copy\n",
      "  \"\"\"Entry point for launching an IPython kernel.\n"
     ]
    }
   ],
   "source": []
  },
  {
   "cell_type": "code",
   "execution_count": null,
   "metadata": {},
   "outputs": [],
   "source": []
  }
 ],
 "metadata": {
  "kernelspec": {
   "display_name": "Python 3",
   "language": "python",
   "name": "python3"
  },
  "language_info": {
   "codemirror_mode": {
    "name": "ipython",
    "version": 3
   },
   "file_extension": ".py",
   "mimetype": "text/x-python",
   "name": "python",
   "nbconvert_exporter": "python",
   "pygments_lexer": "ipython3",
   "version": "3.7.6"
  }
 },
 "nbformat": 4,
 "nbformat_minor": 4
}
